{
 "cells": [
  {
   "cell_type": "markdown",
   "metadata": {},
   "source": [
    "# Project: Understanding Parking Violation of New York in 2018"
   ]
  },
  {
   "cell_type": "code",
   "execution_count": 24,
   "metadata": {},
   "outputs": [],
   "source": [
    "# import all packages and set plots to be embedded inline\n",
    "import numpy as np\n",
    "import pandas as pd\n",
    "import matplotlib.pyplot as plt\n",
    "import seaborn as sb\n",
    "from patsy import dmatrices\n",
    "import statsmodels.api as sm;\n",
    "from datetime import *\n",
    "from statsmodels.stats.outliers_influence import variance_inflation_factor\n",
    "\n",
    "%matplotlib inline"
   ]
  },
  {
   "cell_type": "code",
   "execution_count": 25,
   "metadata": {},
   "outputs": [],
   "source": [
    "# Large dataset, we want to see all columns\n",
    "pd.set_option('display.max_columns', None)"
   ]
  },
  {
   "cell_type": "code",
   "execution_count": 26,
   "metadata": {},
   "outputs": [],
   "source": [
    "# read in .csv\n",
    "df_og = pd.read_csv('parking-violations-issued-fiscal-year-2018.csv', low_memory = False)"
   ]
  },
  {
   "cell_type": "markdown",
   "metadata": {},
   "source": [
    "## Wrangling:<a class=\"anchor\" id=\"2\"></a>"
   ]
  },
  {
   "cell_type": "code",
   "execution_count": 27,
   "metadata": {},
   "outputs": [
    {
     "data": {
      "text/html": [
       "<div>\n",
       "<style scoped>\n",
       "    .dataframe tbody tr th:only-of-type {\n",
       "        vertical-align: middle;\n",
       "    }\n",
       "\n",
       "    .dataframe tbody tr th {\n",
       "        vertical-align: top;\n",
       "    }\n",
       "\n",
       "    .dataframe thead th {\n",
       "        text-align: right;\n",
       "    }\n",
       "</style>\n",
       "<table border=\"1\" class=\"dataframe\">\n",
       "  <thead>\n",
       "    <tr style=\"text-align: right;\">\n",
       "      <th></th>\n",
       "      <th>Summons Number</th>\n",
       "      <th>Plate ID</th>\n",
       "      <th>Registration State</th>\n",
       "      <th>Plate Type</th>\n",
       "      <th>Issue Date</th>\n",
       "      <th>Violation Code</th>\n",
       "      <th>Vehicle Body Type</th>\n",
       "      <th>Vehicle Make</th>\n",
       "      <th>Issuing Agency</th>\n",
       "      <th>Street Code1</th>\n",
       "      <th>Street Code2</th>\n",
       "      <th>Street Code3</th>\n",
       "      <th>Vehicle Expiration Date</th>\n",
       "      <th>Violation Location</th>\n",
       "      <th>Violation Precinct</th>\n",
       "      <th>Issuer Precinct</th>\n",
       "      <th>Issuer Code</th>\n",
       "      <th>Issuer Command</th>\n",
       "      <th>Issuer Squad</th>\n",
       "      <th>Violation Time</th>\n",
       "      <th>Time First Observed</th>\n",
       "      <th>Violation County</th>\n",
       "      <th>Violation In Front Of Or Opposite</th>\n",
       "      <th>House Number</th>\n",
       "      <th>Street Name</th>\n",
       "      <th>Intersecting Street</th>\n",
       "      <th>Date First Observed</th>\n",
       "      <th>Law Section</th>\n",
       "      <th>Sub Division</th>\n",
       "      <th>Violation Legal Code</th>\n",
       "      <th>Days Parking In Effect</th>\n",
       "      <th>From Hours In Effect</th>\n",
       "      <th>To Hours In Effect</th>\n",
       "      <th>Vehicle Color</th>\n",
       "      <th>Unregistered Vehicle?</th>\n",
       "      <th>Vehicle Year</th>\n",
       "      <th>Meter Number</th>\n",
       "      <th>Feet From Curb</th>\n",
       "      <th>Violation Post Code</th>\n",
       "      <th>Violation Description</th>\n",
       "      <th>No Standing or Stopping Violation</th>\n",
       "      <th>Hydrant Violation</th>\n",
       "      <th>Double Parking Violation</th>\n",
       "    </tr>\n",
       "  </thead>\n",
       "  <tbody>\n",
       "    <tr>\n",
       "      <th>0</th>\n",
       "      <td>1105232165</td>\n",
       "      <td>GLS6001</td>\n",
       "      <td>NY</td>\n",
       "      <td>PAS</td>\n",
       "      <td>2018-07-03T00:00:00.000</td>\n",
       "      <td>14</td>\n",
       "      <td>SDN</td>\n",
       "      <td>HONDA</td>\n",
       "      <td>X</td>\n",
       "      <td>47130</td>\n",
       "      <td>13230</td>\n",
       "      <td>80030</td>\n",
       "      <td>20180702.0</td>\n",
       "      <td>78.0</td>\n",
       "      <td>78</td>\n",
       "      <td>968</td>\n",
       "      <td>86684</td>\n",
       "      <td>0968</td>\n",
       "      <td>0000</td>\n",
       "      <td>0811P</td>\n",
       "      <td>NaN</td>\n",
       "      <td>K</td>\n",
       "      <td>F</td>\n",
       "      <td>2</td>\n",
       "      <td>HANSON PLACE</td>\n",
       "      <td>NaN</td>\n",
       "      <td>0</td>\n",
       "      <td>408</td>\n",
       "      <td>D1</td>\n",
       "      <td>NaN</td>\n",
       "      <td>BBYBBBB</td>\n",
       "      <td>ALL</td>\n",
       "      <td>ALL</td>\n",
       "      <td>BLUE</td>\n",
       "      <td>0.0</td>\n",
       "      <td>2006</td>\n",
       "      <td>-</td>\n",
       "      <td>0</td>\n",
       "      <td>NaN</td>\n",
       "      <td>NaN</td>\n",
       "      <td>NaN</td>\n",
       "      <td>NaN</td>\n",
       "      <td>NaN</td>\n",
       "    </tr>\n",
       "    <tr>\n",
       "      <th>1</th>\n",
       "      <td>1121274900</td>\n",
       "      <td>HXM7361</td>\n",
       "      <td>NY</td>\n",
       "      <td>PAS</td>\n",
       "      <td>2018-06-28T00:00:00.000</td>\n",
       "      <td>46</td>\n",
       "      <td>SDN</td>\n",
       "      <td>NISSA</td>\n",
       "      <td>X</td>\n",
       "      <td>28990</td>\n",
       "      <td>14890</td>\n",
       "      <td>15040</td>\n",
       "      <td>20200203.0</td>\n",
       "      <td>112.0</td>\n",
       "      <td>112</td>\n",
       "      <td>968</td>\n",
       "      <td>103419</td>\n",
       "      <td>0968</td>\n",
       "      <td>0000</td>\n",
       "      <td>1145A</td>\n",
       "      <td>NaN</td>\n",
       "      <td>Q</td>\n",
       "      <td>F</td>\n",
       "      <td>71-30</td>\n",
       "      <td>AUSTIN ST</td>\n",
       "      <td>NaN</td>\n",
       "      <td>0</td>\n",
       "      <td>408</td>\n",
       "      <td>C</td>\n",
       "      <td>NaN</td>\n",
       "      <td>BBBBBBB</td>\n",
       "      <td>ALL</td>\n",
       "      <td>ALL</td>\n",
       "      <td>GRY</td>\n",
       "      <td>0.0</td>\n",
       "      <td>2017</td>\n",
       "      <td>-</td>\n",
       "      <td>0</td>\n",
       "      <td>NaN</td>\n",
       "      <td>NaN</td>\n",
       "      <td>NaN</td>\n",
       "      <td>NaN</td>\n",
       "      <td>NaN</td>\n",
       "    </tr>\n",
       "    <tr>\n",
       "      <th>2</th>\n",
       "      <td>1130964875</td>\n",
       "      <td>GTR7949</td>\n",
       "      <td>NY</td>\n",
       "      <td>PAS</td>\n",
       "      <td>2018-06-08T00:00:00.000</td>\n",
       "      <td>24</td>\n",
       "      <td>SUBN</td>\n",
       "      <td>JEEP</td>\n",
       "      <td>X</td>\n",
       "      <td>64</td>\n",
       "      <td>18510</td>\n",
       "      <td>99</td>\n",
       "      <td>20180930.0</td>\n",
       "      <td>122.0</td>\n",
       "      <td>122</td>\n",
       "      <td>835</td>\n",
       "      <td>0</td>\n",
       "      <td>0835</td>\n",
       "      <td>0000</td>\n",
       "      <td>0355P</td>\n",
       "      <td>NaN</td>\n",
       "      <td>R</td>\n",
       "      <td>NaN</td>\n",
       "      <td>NaN</td>\n",
       "      <td>GREAT KILLS BOAT LAU</td>\n",
       "      <td>NaN</td>\n",
       "      <td>0</td>\n",
       "      <td>408</td>\n",
       "      <td>D5</td>\n",
       "      <td>NaN</td>\n",
       "      <td>BBBBBBB</td>\n",
       "      <td>ALL</td>\n",
       "      <td>ALL</td>\n",
       "      <td>GREEN</td>\n",
       "      <td>0.0</td>\n",
       "      <td>0</td>\n",
       "      <td>-</td>\n",
       "      <td>0</td>\n",
       "      <td>NaN</td>\n",
       "      <td>NaN</td>\n",
       "      <td>NaN</td>\n",
       "      <td>NaN</td>\n",
       "      <td>NaN</td>\n",
       "    </tr>\n",
       "    <tr>\n",
       "      <th>3</th>\n",
       "      <td>1130964887</td>\n",
       "      <td>HH1842</td>\n",
       "      <td>NC</td>\n",
       "      <td>PAS</td>\n",
       "      <td>2018-06-07T00:00:00.000</td>\n",
       "      <td>24</td>\n",
       "      <td>P-U</td>\n",
       "      <td>FORD</td>\n",
       "      <td>X</td>\n",
       "      <td>11310</td>\n",
       "      <td>39800</td>\n",
       "      <td>39735</td>\n",
       "      <td>0.0</td>\n",
       "      <td>122.0</td>\n",
       "      <td>122</td>\n",
       "      <td>835</td>\n",
       "      <td>0</td>\n",
       "      <td>0835</td>\n",
       "      <td>0000</td>\n",
       "      <td>0123P</td>\n",
       "      <td>NaN</td>\n",
       "      <td>R</td>\n",
       "      <td>NaN</td>\n",
       "      <td>NaN</td>\n",
       "      <td>GREAT KILLS PARK BOA</td>\n",
       "      <td>NaN</td>\n",
       "      <td>0</td>\n",
       "      <td>408</td>\n",
       "      <td>D5</td>\n",
       "      <td>NaN</td>\n",
       "      <td>BBBBBBB</td>\n",
       "      <td>ALL</td>\n",
       "      <td>ALL</td>\n",
       "      <td>WHITE</td>\n",
       "      <td>0.0</td>\n",
       "      <td>0</td>\n",
       "      <td>-</td>\n",
       "      <td>0</td>\n",
       "      <td>NaN</td>\n",
       "      <td>NaN</td>\n",
       "      <td>NaN</td>\n",
       "      <td>NaN</td>\n",
       "      <td>NaN</td>\n",
       "    </tr>\n",
       "    <tr>\n",
       "      <th>4</th>\n",
       "      <td>1131599342</td>\n",
       "      <td>HDG7076</td>\n",
       "      <td>NY</td>\n",
       "      <td>PAS</td>\n",
       "      <td>2018-06-29T00:00:00.000</td>\n",
       "      <td>17</td>\n",
       "      <td>SUBN</td>\n",
       "      <td>HYUND</td>\n",
       "      <td>X</td>\n",
       "      <td>47130</td>\n",
       "      <td>13230</td>\n",
       "      <td>80030</td>\n",
       "      <td>20190124.0</td>\n",
       "      <td>78.0</td>\n",
       "      <td>78</td>\n",
       "      <td>868</td>\n",
       "      <td>2354</td>\n",
       "      <td>0868</td>\n",
       "      <td>0000</td>\n",
       "      <td>0514P</td>\n",
       "      <td>NaN</td>\n",
       "      <td>K</td>\n",
       "      <td>F</td>\n",
       "      <td>2</td>\n",
       "      <td>HANSON PLACE</td>\n",
       "      <td>NaN</td>\n",
       "      <td>0</td>\n",
       "      <td>408</td>\n",
       "      <td>C4</td>\n",
       "      <td>NaN</td>\n",
       "      <td>BBBBBBB</td>\n",
       "      <td>ALL</td>\n",
       "      <td>ALL</td>\n",
       "      <td>GREEN</td>\n",
       "      <td>0.0</td>\n",
       "      <td>2007</td>\n",
       "      <td>-</td>\n",
       "      <td>0</td>\n",
       "      <td>NaN</td>\n",
       "      <td>NaN</td>\n",
       "      <td>NaN</td>\n",
       "      <td>NaN</td>\n",
       "      <td>NaN</td>\n",
       "    </tr>\n",
       "  </tbody>\n",
       "</table>\n",
       "</div>"
      ],
      "text/plain": [
       "   Summons Number Plate ID Registration State Plate Type  \\\n",
       "0      1105232165  GLS6001                 NY        PAS   \n",
       "1      1121274900  HXM7361                 NY        PAS   \n",
       "2      1130964875  GTR7949                 NY        PAS   \n",
       "3      1130964887   HH1842                 NC        PAS   \n",
       "4      1131599342  HDG7076                 NY        PAS   \n",
       "\n",
       "                Issue Date  Violation Code Vehicle Body Type Vehicle Make  \\\n",
       "0  2018-07-03T00:00:00.000              14               SDN        HONDA   \n",
       "1  2018-06-28T00:00:00.000              46               SDN        NISSA   \n",
       "2  2018-06-08T00:00:00.000              24              SUBN         JEEP   \n",
       "3  2018-06-07T00:00:00.000              24               P-U         FORD   \n",
       "4  2018-06-29T00:00:00.000              17              SUBN        HYUND   \n",
       "\n",
       "  Issuing Agency  Street Code1  Street Code2  Street Code3  \\\n",
       "0              X         47130         13230         80030   \n",
       "1              X         28990         14890         15040   \n",
       "2              X            64         18510            99   \n",
       "3              X         11310         39800         39735   \n",
       "4              X         47130         13230         80030   \n",
       "\n",
       "   Vehicle Expiration Date  Violation Location  Violation Precinct  \\\n",
       "0               20180702.0                78.0                  78   \n",
       "1               20200203.0               112.0                 112   \n",
       "2               20180930.0               122.0                 122   \n",
       "3                      0.0               122.0                 122   \n",
       "4               20190124.0                78.0                  78   \n",
       "\n",
       "   Issuer Precinct  Issuer Code Issuer Command Issuer Squad Violation Time  \\\n",
       "0              968        86684           0968         0000          0811P   \n",
       "1              968       103419           0968         0000          1145A   \n",
       "2              835            0           0835         0000          0355P   \n",
       "3              835            0           0835         0000          0123P   \n",
       "4              868         2354           0868         0000          0514P   \n",
       "\n",
       "  Time First Observed Violation County Violation In Front Of Or Opposite  \\\n",
       "0                 NaN                K                                 F   \n",
       "1                 NaN                Q                                 F   \n",
       "2                 NaN                R                               NaN   \n",
       "3                 NaN                R                               NaN   \n",
       "4                 NaN                K                                 F   \n",
       "\n",
       "  House Number           Street Name Intersecting Street  Date First Observed  \\\n",
       "0            2          HANSON PLACE                 NaN                    0   \n",
       "1        71-30             AUSTIN ST                 NaN                    0   \n",
       "2          NaN  GREAT KILLS BOAT LAU                 NaN                    0   \n",
       "3          NaN  GREAT KILLS PARK BOA                 NaN                    0   \n",
       "4            2          HANSON PLACE                 NaN                    0   \n",
       "\n",
       "   Law Section Sub Division Violation Legal Code Days Parking In Effect      \\\n",
       "0          408           D1                  NaN                    BBYBBBB   \n",
       "1          408            C                  NaN                    BBBBBBB   \n",
       "2          408           D5                  NaN                    BBBBBBB   \n",
       "3          408           D5                  NaN                    BBBBBBB   \n",
       "4          408           C4                  NaN                    BBBBBBB   \n",
       "\n",
       "  From Hours In Effect To Hours In Effect Vehicle Color  \\\n",
       "0                  ALL                ALL          BLUE   \n",
       "1                  ALL                ALL           GRY   \n",
       "2                  ALL                ALL         GREEN   \n",
       "3                  ALL                ALL         WHITE   \n",
       "4                  ALL                ALL         GREEN   \n",
       "\n",
       "   Unregistered Vehicle?  Vehicle Year Meter Number  Feet From Curb  \\\n",
       "0                    0.0          2006            -               0   \n",
       "1                    0.0          2017            -               0   \n",
       "2                    0.0             0            -               0   \n",
       "3                    0.0             0            -               0   \n",
       "4                    0.0          2007            -               0   \n",
       "\n",
       "  Violation Post Code Violation Description  \\\n",
       "0                 NaN                   NaN   \n",
       "1                 NaN                   NaN   \n",
       "2                 NaN                   NaN   \n",
       "3                 NaN                   NaN   \n",
       "4                 NaN                   NaN   \n",
       "\n",
       "   No Standing or Stopping Violation  Hydrant Violation  \\\n",
       "0                                NaN                NaN   \n",
       "1                                NaN                NaN   \n",
       "2                                NaN                NaN   \n",
       "3                                NaN                NaN   \n",
       "4                                NaN                NaN   \n",
       "\n",
       "   Double Parking Violation  \n",
       "0                       NaN  \n",
       "1                       NaN  \n",
       "2                       NaN  \n",
       "3                       NaN  \n",
       "4                       NaN  "
      ]
     },
     "execution_count": 27,
     "metadata": {},
     "output_type": "execute_result"
    }
   ],
   "source": [
    "df_og.head()"
   ]
  },
  {
   "cell_type": "code",
   "execution_count": 28,
   "metadata": {},
   "outputs": [],
   "source": [
    "# let's create a copy we will work with\n",
    "df = df_og.copy()"
   ]
  },
  {
   "cell_type": "code",
   "execution_count": 29,
   "metadata": {},
   "outputs": [],
   "source": [
    "# Selecting the columns we want to work with\n",
    "df = df[['Registration State', 'Issue Date', 'Violation Time', 'Violation Code', 'Vehicle Body Type', 'Vehicle Make', 'Vehicle Color', 'Vehicle Year']]"
   ]
  },
  {
   "cell_type": "code",
   "execution_count": 30,
   "metadata": {},
   "outputs": [],
   "source": [
    "# change column names to lower case and eliminate empty space\n",
    "df.columns = ['registration_state', 'issue_date', 'violation_time', 'violation_code', 'vehicle_body_type', 'vehicle_make', 'vehicle_color', 'vehicle_year']"
   ]
  },
  {
   "cell_type": "code",
   "execution_count": 31,
   "metadata": {},
   "outputs": [],
   "source": [
    "# drop duplicate rows and rows with missing value\n",
    "df.drop_duplicates(inplace = True)\n",
    "df.dropna(inplace = True)"
   ]
  },
  {
   "cell_type": "code",
   "execution_count": 32,
   "metadata": {},
   "outputs": [],
   "source": [
    "# Convert Issue Date to datetime object\n",
    "df.issue_date = pd.to_datetime(df.issue_date)"
   ]
  },
  {
   "cell_type": "code",
   "execution_count": 33,
   "metadata": {
    "scrolled": false
   },
   "outputs": [],
   "source": [
    "# Get rid of incorrect violation time data\n",
    "mask = (df.violation_time.str.len() == 5) & (df.violation_time.str.count('\\.') == 0) & (df.violation_time.str.count(' ') == 0)\n",
    "\n",
    "df = df.loc[mask]"
   ]
  },
  {
   "cell_type": "code",
   "execution_count": 34,
   "metadata": {
    "scrolled": true
   },
   "outputs": [],
   "source": [
    "# Add flag column for additional filtering later on\n",
    "df['flag'] = False\n",
    "df = df.reset_index(drop=True)"
   ]
  },
  {
   "cell_type": "code",
   "execution_count": 35,
   "metadata": {},
   "outputs": [
    {
     "name": "stderr",
     "output_type": "stream",
     "text": [
      "A:\\Anaconda3\\lib\\site-packages\\ipykernel\\__main__.py:3: FutureWarning: get_value is deprecated and will be removed in a future release. Please use .at[] or .iat[] accessors instead\n",
      "  app.launch_new_instance()\n",
      "A:\\Anaconda3\\lib\\site-packages\\ipykernel\\__main__.py:21: FutureWarning: set_value is deprecated and will be removed in a future release. Please use .at[] or .iat[] accessors instead\n",
      "A:\\Anaconda3\\lib\\site-packages\\ipykernel\\__main__.py:12: FutureWarning: set_value is deprecated and will be removed in a future release. Please use .at[] or .iat[] accessors instead\n"
     ]
    }
   ],
   "source": [
    "for i in df.index:\n",
    "    # grab violation time at row i\n",
    "    v_time = df.get_value(i, 'violation_time')\n",
    "    \n",
    "    # tokenize hour, minute, and PM/AM characters into different variables, cast to int as necessary\n",
    "    h = int(v_time[0:2])\n",
    "    m = int(v_time[2:4])\n",
    "    p = v_time[4:5]\n",
    "    \n",
    "    # flag rows with erroneous violation time values (ex. 6831P) \n",
    "    if h >= 24:\n",
    "        df.set_value(i, 'flag', True)   \n",
    "    if m >= 60:\n",
    "        df.set_value(i, 'flag', True)\n",
    "    \n",
    "    # if violation time is PM, add 12 to hour value\n",
    "    if p == 'P':\n",
    "        h += 12\n",
    "    \n",
    "    # add time data to issue date data using timedelta\n",
    "    df.set_value(i, 'issue_date', df.issue_date[i] + timedelta(hours = h, minutes = m))"
   ]
  },
  {
   "cell_type": "code",
   "execution_count": 36,
   "metadata": {
    "scrolled": false
   },
   "outputs": [],
   "source": [
    "# remove flagged rows\n",
    "df = df.query('flag == False')"
   ]
  },
  {
   "cell_type": "code",
   "execution_count": 37,
   "metadata": {},
   "outputs": [],
   "source": [
    "# drop violation time as it's no longer needed\n",
    "df.drop('violation_time', axis = 1, inplace = True)"
   ]
  },
  {
   "cell_type": "code",
   "execution_count": 38,
   "metadata": {},
   "outputs": [
    {
     "data": {
      "text/html": [
       "<div>\n",
       "<style scoped>\n",
       "    .dataframe tbody tr th:only-of-type {\n",
       "        vertical-align: middle;\n",
       "    }\n",
       "\n",
       "    .dataframe tbody tr th {\n",
       "        vertical-align: top;\n",
       "    }\n",
       "\n",
       "    .dataframe thead th {\n",
       "        text-align: right;\n",
       "    }\n",
       "</style>\n",
       "<table border=\"1\" class=\"dataframe\">\n",
       "  <thead>\n",
       "    <tr style=\"text-align: right;\">\n",
       "      <th></th>\n",
       "      <th>registration_state</th>\n",
       "      <th>issue_date</th>\n",
       "      <th>violation_code</th>\n",
       "      <th>vehicle_body_type</th>\n",
       "      <th>vehicle_make</th>\n",
       "      <th>vehicle_color</th>\n",
       "      <th>vehicle_year</th>\n",
       "      <th>flag</th>\n",
       "    </tr>\n",
       "  </thead>\n",
       "  <tbody>\n",
       "    <tr>\n",
       "      <th>0</th>\n",
       "      <td>NY</td>\n",
       "      <td>2018-07-03 20:11:00</td>\n",
       "      <td>14</td>\n",
       "      <td>SDN</td>\n",
       "      <td>HONDA</td>\n",
       "      <td>BLUE</td>\n",
       "      <td>2006</td>\n",
       "      <td>False</td>\n",
       "    </tr>\n",
       "    <tr>\n",
       "      <th>1</th>\n",
       "      <td>NY</td>\n",
       "      <td>2018-06-28 11:45:00</td>\n",
       "      <td>46</td>\n",
       "      <td>SDN</td>\n",
       "      <td>NISSA</td>\n",
       "      <td>GRY</td>\n",
       "      <td>2017</td>\n",
       "      <td>False</td>\n",
       "    </tr>\n",
       "    <tr>\n",
       "      <th>2</th>\n",
       "      <td>NY</td>\n",
       "      <td>2018-06-08 15:55:00</td>\n",
       "      <td>24</td>\n",
       "      <td>SUBN</td>\n",
       "      <td>JEEP</td>\n",
       "      <td>GREEN</td>\n",
       "      <td>0</td>\n",
       "      <td>False</td>\n",
       "    </tr>\n",
       "    <tr>\n",
       "      <th>3</th>\n",
       "      <td>NC</td>\n",
       "      <td>2018-06-07 13:23:00</td>\n",
       "      <td>24</td>\n",
       "      <td>P-U</td>\n",
       "      <td>FORD</td>\n",
       "      <td>WHITE</td>\n",
       "      <td>0</td>\n",
       "      <td>False</td>\n",
       "    </tr>\n",
       "    <tr>\n",
       "      <th>4</th>\n",
       "      <td>NY</td>\n",
       "      <td>2018-06-29 17:14:00</td>\n",
       "      <td>17</td>\n",
       "      <td>SUBN</td>\n",
       "      <td>HYUND</td>\n",
       "      <td>GREEN</td>\n",
       "      <td>2007</td>\n",
       "      <td>False</td>\n",
       "    </tr>\n",
       "  </tbody>\n",
       "</table>\n",
       "</div>"
      ],
      "text/plain": [
       "  registration_state          issue_date  violation_code vehicle_body_type  \\\n",
       "0                 NY 2018-07-03 20:11:00              14               SDN   \n",
       "1                 NY 2018-06-28 11:45:00              46               SDN   \n",
       "2                 NY 2018-06-08 15:55:00              24              SUBN   \n",
       "3                 NC 2018-06-07 13:23:00              24               P-U   \n",
       "4                 NY 2018-06-29 17:14:00              17              SUBN   \n",
       "\n",
       "  vehicle_make vehicle_color  vehicle_year   flag  \n",
       "0        HONDA          BLUE          2006  False  \n",
       "1        NISSA           GRY          2017  False  \n",
       "2         JEEP         GREEN             0  False  \n",
       "3         FORD         WHITE             0  False  \n",
       "4        HYUND         GREEN          2007  False  "
      ]
     },
     "execution_count": 38,
     "metadata": {},
     "output_type": "execute_result"
    }
   ],
   "source": [
    "df.head()"
   ]
  },
  {
   "cell_type": "code",
   "execution_count": 39,
   "metadata": {},
   "outputs": [],
   "source": [
    "# create a dictionary for all registration states of North America (US, Canada, Mexico)\n",
    "states = {'AL', 'AK', 'AZ', 'AR', 'AA', 'AE', 'AP', 'CA', 'CO', 'CT', 'DE', 'DC', 'FL', 'GA', 'HI', 'ID', 'IL', 'IN', 'IA',\n",
    "         'KS', 'KY', 'LA', 'ME', 'MD', 'MA', 'MI', 'MN', 'MS', 'MO', 'MT', 'NE', 'NV', 'NH', 'NJ', 'NM', 'NY', 'NC', 'ND',\n",
    "         'OH', 'OK', 'OR', 'PA', 'RI', 'SC', 'SD', 'TN', 'TX', 'UT', 'VT', 'VA', 'WA', 'WV', 'WI', 'WY', 'AB', 'BC', 'MB',\n",
    "         'NB', 'NF', 'NT', 'NS', 'NU', 'ON', 'PE', 'QC', 'SK', 'YT', 'AG', 'BJ', 'BS', 'CP', 'CH', 'CI', 'CU', 'CL', 'DF',\n",
    "         'DG', 'GJ', 'GR', 'HG', 'JA', 'EM', 'MH', 'MR', 'NA', 'NL', 'OA', 'PU', 'QA', 'QR', 'SL', 'SI', 'SO', 'TA', 'TM',\n",
    "         'TL', 'VZ', 'YC', 'ZT'}"
   ]
  },
  {
   "cell_type": "code",
   "execution_count": 40,
   "metadata": {},
   "outputs": [],
   "source": [
    "# if registration state code is not found in states dictionary, flag it as True\n",
    "df.flag = ~df.registration_state.isin(states)"
   ]
  },
  {
   "cell_type": "code",
   "execution_count": 41,
   "metadata": {},
   "outputs": [],
   "source": [
    "# cast violation code as string object, we will not be performing numeric calculation with these nominal values\n",
    "df.violation_code = df.violation_code.astype('str')"
   ]
  },
  {
   "cell_type": "markdown",
   "metadata": {},
   "source": [
    "There is a huge amount of mess here with **vehicle body types**. Same type of vehicles are represented with different abbreviations, and some don't even appear under official NY vehicle registration sheet (https://data.ny.gov/api/assets/83055271-29A6-4ED4-9374-E159F30DB5AE). I will be combining the same vehicle types under official abbreviations. For the purposes of this analysis we will only be concerned with commercially distinguishable vehicle body types."
   ]
  },
  {
   "cell_type": "code",
   "execution_count": 42,
   "metadata": {},
   "outputs": [],
   "source": [
    "# create dictionaries of vehicle body types we want to use\n",
    "body = {'SUBN', '4DSD', 'VAN', 'PICK', '2DSD', 'REFG', 'TRAC', 'UTIL', 'TAXI', 'CONV', 'BUS', \n",
    "        'TRLR', 'MCY', 'TRK', 'DUMP', 'TR/C'}"
   ]
  },
  {
   "cell_type": "code",
   "execution_count": 43,
   "metadata": {},
   "outputs": [
    {
     "name": "stderr",
     "output_type": "stream",
     "text": [
      "A:\\Anaconda3\\lib\\site-packages\\ipykernel\\__main__.py:3: FutureWarning: get_value is deprecated and will be removed in a future release. Please use .at[] or .iat[] accessors instead\n",
      "  app.launch_new_instance()\n",
      "A:\\Anaconda3\\lib\\site-packages\\ipykernel\\__main__.py:11: FutureWarning: set_value is deprecated and will be removed in a future release. Please use .at[] or .iat[] accessors instead\n",
      "A:\\Anaconda3\\lib\\site-packages\\ipykernel\\__main__.py:7: FutureWarning: set_value is deprecated and will be removed in a future release. Please use .at[] or .iat[] accessors instead\n",
      "A:\\Anaconda3\\lib\\site-packages\\ipykernel\\__main__.py:15: FutureWarning: set_value is deprecated and will be removed in a future release. Please use .at[] or .iat[] accessors instead\n",
      "A:\\Anaconda3\\lib\\site-packages\\ipykernel\\__main__.py:23: FutureWarning: set_value is deprecated and will be removed in a future release. Please use .at[] or .iat[] accessors instead\n",
      "A:\\Anaconda3\\lib\\site-packages\\ipykernel\\__main__.py:19: FutureWarning: set_value is deprecated and will be removed in a future release. Please use .at[] or .iat[] accessors instead\n"
     ]
    }
   ],
   "source": [
    "# iterating through dataframe and grab its body type\n",
    "for i in df.index:\n",
    "    body_type = df.get_value(i, 'vehicle_body_type')\n",
    "    \n",
    "    # Fixing 4 door sedan\n",
    "    if (body_type == '4 DR') | (body_type == '4D'):\n",
    "        df.set_value(i, 'vehicle_body_type', '4DSD')\n",
    "    \n",
    "    # Fixing PickUp Trucks\n",
    "    elif (body_type == 'P-U') | (body_type == 'PKUP'):\n",
    "        df.set_value(i, 'vehicle_body_type', 'PICK')\n",
    "    \n",
    "    # Fixing Utility Vehicles\n",
    "    elif body_type == 'UT':\n",
    "        df.set_value(i, 'vehicle_body_type', 'UTIL')\n",
    "        \n",
    "    # Combining Trailer and Semi-Trailer\n",
    "    elif body_type == 'SEMI':\n",
    "        df.set_value(i, 'vehicle_body_type', 'TRLR')\n",
    "    \n",
    "    # Combining Flat base trucks, Trucks, and Tow trucks\n",
    "    elif (body_type == 'FLAT') | (body_type == 'TOW'):\n",
    "        df.set_value(i, 'vehicle_body_type', 'TRK')"
   ]
  },
  {
   "cell_type": "code",
   "execution_count": 44,
   "metadata": {},
   "outputs": [],
   "source": [
    "# Flag all rows with body types we are not concerned with\n",
    "df.flag = ~df.vehicle_body_type.isin(body)"
   ]
  },
  {
   "cell_type": "code",
   "execution_count": 45,
   "metadata": {},
   "outputs": [],
   "source": [
    "# remove flagged rows\n",
    "df = df.query('flag == False')"
   ]
  },
  {
   "cell_type": "markdown",
   "metadata": {},
   "source": [
    "There is also a huge amount of mess with **vehicle make**. Same type of vehicles are represented with different abbv, and may do not appear under NY's official vehicle make database (https://data.ny.gov/Transportation/Vehicle-Makes-and-Body-Types-Most-Popular-in-New-Y/3pxy-wy2i). For the purposes of the analysis, commercially distinguishable vehicle makes will be combined under 1 abbreviation."
   ]
  },
  {
   "cell_type": "code",
   "execution_count": 46,
   "metadata": {},
   "outputs": [],
   "source": [
    "# create a dictionary of all car manufacturers we want to use\n",
    "make = {'FORD', 'TOYOT', 'HONDA', 'NISSA', 'CHEVR', 'MERZ', 'DODGE', 'FRUEH', 'JEEP', 'BMW', 'HYUND',\n",
    "       'LEXUS', 'GMC', 'ACURA', 'INFIN', 'SUBAR', 'VOLKS', 'CHRYS', 'AUDI', 'KIA', 'MAZDA', 'HIN', 'ISUZU',\n",
    "       'ROVER', 'CADIL', 'VOLVO', 'MITSU', 'LINCO', 'BUICK', 'MERCU', 'PORSC', 'MINI', 'SMART', 'SATUR',\n",
    "       'JAGUA', 'PONTI', 'FIAT', 'SUZUK', 'TESLA', 'MASE', 'SAAB', 'SCION', 'YAMAH', 'KAWAS', 'DUCAT',\n",
    "       'FERRA', 'ROLLS', 'LAMBO', 'LEXUS', 'KENWO'}"
   ]
  },
  {
   "cell_type": "code",
   "execution_count": 47,
   "metadata": {},
   "outputs": [
    {
     "name": "stderr",
     "output_type": "stream",
     "text": [
      "A:\\Anaconda3\\lib\\site-packages\\ipykernel\\__main__.py:3: FutureWarning: get_value is deprecated and will be removed in a future release. Please use .at[] or .iat[] accessors instead\n",
      "  app.launch_new_instance()\n",
      "A:\\Anaconda3\\lib\\site-packages\\ipykernel\\__main__.py:7: FutureWarning: set_value is deprecated and will be removed in a future release. Please use .at[] or .iat[] accessors instead\n",
      "A:\\Anaconda3\\lib\\site-packages\\ipykernel\\__main__.py:11: FutureWarning: set_value is deprecated and will be removed in a future release. Please use .at[] or .iat[] accessors instead\n",
      "A:\\Anaconda3\\lib\\site-packages\\ipykernel\\__main__.py:27: FutureWarning: set_value is deprecated and will be removed in a future release. Please use .at[] or .iat[] accessors instead\n",
      "A:\\Anaconda3\\lib\\site-packages\\ipykernel\\__main__.py:39: FutureWarning: set_value is deprecated and will be removed in a future release. Please use .at[] or .iat[] accessors instead\n",
      "A:\\Anaconda3\\lib\\site-packages\\ipykernel\\__main__.py:19: FutureWarning: set_value is deprecated and will be removed in a future release. Please use .at[] or .iat[] accessors instead\n",
      "A:\\Anaconda3\\lib\\site-packages\\ipykernel\\__main__.py:23: FutureWarning: set_value is deprecated and will be removed in a future release. Please use .at[] or .iat[] accessors instead\n",
      "A:\\Anaconda3\\lib\\site-packages\\ipykernel\\__main__.py:15: FutureWarning: set_value is deprecated and will be removed in a future release. Please use .at[] or .iat[] accessors instead\n",
      "A:\\Anaconda3\\lib\\site-packages\\ipykernel\\__main__.py:31: FutureWarning: set_value is deprecated and will be removed in a future release. Please use .at[] or .iat[] accessors instead\n",
      "A:\\Anaconda3\\lib\\site-packages\\ipykernel\\__main__.py:43: FutureWarning: set_value is deprecated and will be removed in a future release. Please use .at[] or .iat[] accessors instead\n",
      "A:\\Anaconda3\\lib\\site-packages\\ipykernel\\__main__.py:55: FutureWarning: set_value is deprecated and will be removed in a future release. Please use .at[] or .iat[] accessors instead\n",
      "A:\\Anaconda3\\lib\\site-packages\\ipykernel\\__main__.py:35: FutureWarning: set_value is deprecated and will be removed in a future release. Please use .at[] or .iat[] accessors instead\n",
      "A:\\Anaconda3\\lib\\site-packages\\ipykernel\\__main__.py:59: FutureWarning: set_value is deprecated and will be removed in a future release. Please use .at[] or .iat[] accessors instead\n",
      "A:\\Anaconda3\\lib\\site-packages\\ipykernel\\__main__.py:63: FutureWarning: set_value is deprecated and will be removed in a future release. Please use .at[] or .iat[] accessors instead\n",
      "A:\\Anaconda3\\lib\\site-packages\\ipykernel\\__main__.py:47: FutureWarning: set_value is deprecated and will be removed in a future release. Please use .at[] or .iat[] accessors instead\n",
      "A:\\Anaconda3\\lib\\site-packages\\ipykernel\\__main__.py:51: FutureWarning: set_value is deprecated and will be removed in a future release. Please use .at[] or .iat[] accessors instead\n",
      "A:\\Anaconda3\\lib\\site-packages\\ipykernel\\__main__.py:67: FutureWarning: set_value is deprecated and will be removed in a future release. Please use .at[] or .iat[] accessors instead\n"
     ]
    }
   ],
   "source": [
    "# iterating through dataframe and grab its make\n",
    "for i in df.index:\n",
    "    make_manu = df.get_value(i, 'vehicle_make')\n",
    "    \n",
    "    # Fixing Mercedes Benz\n",
    "    if (make_manu == 'ME/BE') | (make_manu == 'M-B'):\n",
    "        df.set_value(i, 'vehicle_make', 'MERZ')\n",
    "    \n",
    "    # Fixing Hyundai\n",
    "    elif (make_manu == 'HYUN') | (make_manu == 'HYUNN') | (make_manu == 'HYUAN'):\n",
    "        df.set_value(i, 'vehicle_make', 'HYUND')\n",
    "    \n",
    "    # Fixing GMC\n",
    "    elif (make_manu == 'DAEWO') | (make_manu == ' GMC'):\n",
    "        df.set_value(i, 'vehicle_make', 'GMC')\n",
    "    \n",
    "    # Fixing Volkswagen\n",
    "    elif (make_manu == 'VOLK') | (make_manu == 'VOKLS'):\n",
    "        df.set_value(i, 'vehicle_make', 'VOLKS')\n",
    "        \n",
    "    # Fixing Kia\n",
    "    elif (make_manu == 'KIA.') | (make_manu == ' KIA'):\n",
    "        df.set_value(i, 'vehicle_make', 'KIA')\n",
    "        \n",
    "    # Fixing Lexus\n",
    "    elif (make_manu == 'LEX') | (make_manu == 'LEXU') | (make_manu == 'LEXSU') | (make_manu == ' LEXU'):\n",
    "        df.set_value(i, 'vehicle_make', 'LEXUS')\n",
    "        \n",
    "    # Fixing Mitsubishi\n",
    "    elif (make_manu == 'MIYSU') | (make_manu == 'HITSU') | (make_manu == 'MITBI'):\n",
    "        df.set_value(i, 'vehicle_make', 'MITSU')\n",
    "        \n",
    "    # Fixing Ford\n",
    "    elif (make_manu == 'FORDB') | (make_manu == 'FORDF'):\n",
    "        df.set_value(i, 'vehicle_make', 'FORD')\n",
    "        \n",
    "    # Fixing Subaru\n",
    "    elif make_manu == 'SUBA':\n",
    "        df.set_value(i, 'vehicle_make', 'SUBAR')\n",
    "        \n",
    "    # Fixing Saturn\n",
    "    elif (make_manu == 'SATUN') | (make_manu == 'SETUR'):\n",
    "        df.set_value(i, 'vehicle_make', 'SATUR')\n",
    "        \n",
    "    # Fixing Chrysler\n",
    "    elif (make_manu == 'CHHRY') | (make_manu == 'CHCRY'):\n",
    "        df.set_value(i, 'vehicle_make', 'CHRYS')   \n",
    "        \n",
    "    # Fixing Mazda\n",
    "    elif make_manu == 'MADA':\n",
    "        df.set_value(i, 'vehicle_make', 'MAZDA')\n",
    "        \n",
    "    # Fixing Acura\n",
    "    elif (make_manu == 'ACYRA') | (make_manu == 'ACUR') | (make_manu == 'ACUCA'):\n",
    "        df.set_value(i, 'vehicle_make', 'ACURA')\n",
    "        \n",
    "    # Fixing Cadillac\n",
    "    elif (make_manu == 'CADDL'):\n",
    "        df.set_value(i, 'vehicle_make', 'CADIL')\n",
    "        \n",
    "    # Fixing Porsche\n",
    "    elif (make_manu == 'PORS') | (make_manu == 'PORSD'):\n",
    "        df.set_value(i, 'vehicle_make', 'PORSC')    \n",
    "    \n",
    "    # Fixing Toyota\n",
    "    elif make_manu == 'TOTOY':\n",
    "        df.set_value(i, 'vehicle_make', 'TOYOT')\n",
    "        \n",
    "    # Fixing Kenworth\n",
    "    elif (make_manu == 'KW') | (make_manu == 'KEN') | (make_manu == 'KENW'):\n",
    "        df.set_value(i, 'vehicle_make', 'KENWO')"
   ]
  },
  {
   "cell_type": "code",
   "execution_count": 48,
   "metadata": {},
   "outputs": [],
   "source": [
    "# Flag all rows with manufacturers we are not concerned with\n",
    "df.flag = ~df.vehicle_make.isin(make)"
   ]
  },
  {
   "cell_type": "code",
   "execution_count": 49,
   "metadata": {},
   "outputs": [],
   "source": [
    "# remove flagged rows\n",
    "df = df.query('flag == False')"
   ]
  },
  {
   "cell_type": "markdown",
   "metadata": {},
   "source": [
    "Some mess here in the **vehicle year** data. Around 1.3 car's manufacture year could not be identified. This dataset collects all parking enforcement in NY in 2018 and 2019 car models do go on sale in 2018. Therefore, we will be getting rid of all rows with manufacture date recorded as 2020 and up.\n",
    "\n",
    "using `value_counts(sort = False)` returns all registered vehicle years in ascending order. We see that 0 is the lowest value followed by 1970. We will be concerned with records of vehicles year made between 1970 and 2019."
   ]
  },
  {
   "cell_type": "code",
   "execution_count": 50,
   "metadata": {},
   "outputs": [],
   "source": [
    "df = df[(df.vehicle_year >= 1970) & (df.vehicle_year <= 2019)]"
   ]
  },
  {
   "cell_type": "markdown",
   "metadata": {},
   "source": [
    "There is a lot of mess with **vehicle color** as well and most if not all mess is caused by typos. We will be replacing the colors with proper color names."
   ]
  },
  {
   "cell_type": "code",
   "execution_count": 51,
   "metadata": {},
   "outputs": [],
   "source": [
    "color_dic = {'GRAY', 'WHITE', 'BLACK', 'RED', 'YELLOW', 'SILVER', 'BLUE', 'GOLD', 'ORANGE', 'BROWN', 'BEIGE', 'GREEN', 'PURPLE', 'PINK'}"
   ]
  },
  {
   "cell_type": "code",
   "execution_count": 52,
   "metadata": {},
   "outputs": [
    {
     "name": "stderr",
     "output_type": "stream",
     "text": [
      "A:\\Anaconda3\\lib\\site-packages\\ipykernel\\__main__.py:2: FutureWarning: get_value is deprecated and will be removed in a future release. Please use .at[] or .iat[] accessors instead\n",
      "  from ipykernel import kernelapp as app\n",
      "A:\\Anaconda3\\lib\\site-packages\\ipykernel\\__main__.py:15: FutureWarning: set_value is deprecated and will be removed in a future release. Please use .at[] or .iat[] accessors instead\n",
      "A:\\Anaconda3\\lib\\site-packages\\ipykernel\\__main__.py:6: FutureWarning: set_value is deprecated and will be removed in a future release. Please use .at[] or .iat[] accessors instead\n",
      "A:\\Anaconda3\\lib\\site-packages\\ipykernel\\__main__.py:28: FutureWarning: set_value is deprecated and will be removed in a future release. Please use .at[] or .iat[] accessors instead\n",
      "A:\\Anaconda3\\lib\\site-packages\\ipykernel\\__main__.py:19: FutureWarning: set_value is deprecated and will be removed in a future release. Please use .at[] or .iat[] accessors instead\n",
      "A:\\Anaconda3\\lib\\site-packages\\ipykernel\\__main__.py:11: FutureWarning: set_value is deprecated and will be removed in a future release. Please use .at[] or .iat[] accessors instead\n",
      "A:\\Anaconda3\\lib\\site-packages\\ipykernel\\__main__.py:56: FutureWarning: set_value is deprecated and will be removed in a future release. Please use .at[] or .iat[] accessors instead\n",
      "A:\\Anaconda3\\lib\\site-packages\\ipykernel\\__main__.py:32: FutureWarning: set_value is deprecated and will be removed in a future release. Please use .at[] or .iat[] accessors instead\n",
      "A:\\Anaconda3\\lib\\site-packages\\ipykernel\\__main__.py:52: FutureWarning: set_value is deprecated and will be removed in a future release. Please use .at[] or .iat[] accessors instead\n",
      "A:\\Anaconda3\\lib\\site-packages\\ipykernel\\__main__.py:44: FutureWarning: set_value is deprecated and will be removed in a future release. Please use .at[] or .iat[] accessors instead\n",
      "A:\\Anaconda3\\lib\\site-packages\\ipykernel\\__main__.py:40: FutureWarning: set_value is deprecated and will be removed in a future release. Please use .at[] or .iat[] accessors instead\n",
      "A:\\Anaconda3\\lib\\site-packages\\ipykernel\\__main__.py:23: FutureWarning: set_value is deprecated and will be removed in a future release. Please use .at[] or .iat[] accessors instead\n",
      "A:\\Anaconda3\\lib\\site-packages\\ipykernel\\__main__.py:36: FutureWarning: set_value is deprecated and will be removed in a future release. Please use .at[] or .iat[] accessors instead\n",
      "A:\\Anaconda3\\lib\\site-packages\\ipykernel\\__main__.py:48: FutureWarning: set_value is deprecated and will be removed in a future release. Please use .at[] or .iat[] accessors instead\n",
      "A:\\Anaconda3\\lib\\site-packages\\ipykernel\\__main__.py:60: FutureWarning: set_value is deprecated and will be removed in a future release. Please use .at[] or .iat[] accessors instead\n"
     ]
    }
   ],
   "source": [
    "for i in df.index:\n",
    "    color = df.get_value(i, 'vehicle_color')\n",
    "    \n",
    "    # Fixing GRAY\n",
    "    if color in ('DKGY', 'GYGY', 'GR', 'GY', 'GRY', 'GREY', 'GRAY', 'GY/', 'GY.', 'GRY.', 'GREY.', 'GRAY.', 'ASH'):\n",
    "        df.set_value(i, 'vehicle_color', 'GRAY')\n",
    "    \n",
    "    # Fixing WHITE\n",
    "    elif color in ('W', 'WH', 'WT', 'WHI', 'WH/', 'WHIT', 'WTE', 'WH.', 'WHTE', 'WHT.', 'CREAM', 'WHTIE', 'DKWH', \n",
    "                   'WHIE', 'WHI-T', 'White'):\n",
    "        df.set_value(i, 'vehicle_color', 'WHITE')\n",
    "    \n",
    "    # Fixing BLACK\n",
    "    elif color in ('BLK', 'BK', 'BK/', 'BLK.', 'DKBK', 'BLAVK', 'BLAK', 'Black', 'BCK', 'BLACJ'):\n",
    "        df.set_value(i, 'vehicle_color', 'BLACK')\n",
    "    \n",
    "    # Fixing RED\n",
    "    elif color in ('RD', 'DKRD', 'RD/', 'RD.', 'RED.', 'R', 'WINE', 'BED', 'DK RD'):\n",
    "        df.set_value(i, 'vehicle_color', 'RED')\n",
    "        \n",
    "    # Fixing YELLOW\n",
    "    elif color in ('YW', 'YELLO', 'YEL', 'YELLW', 'YELL', 'YL', 'Y', 'YLW', 'YE', 'YELOW', 'YLLW', 'YWL', 'YW.'):\n",
    "        df.set_value(i, 'vehicle_color', 'YELLOW')\n",
    "        \n",
    "    # Fixing SILVER\n",
    "    elif color in ('SILVE', 'SIL', 'SILV', 'SLVR', 'SLV', 'SI', 'SLR', 'SLVE', 'SIL.', 'SLVER', 'SIVR', 'SLV.',\n",
    "                   'SILV.', 'SLIVE', 'SLIVR', 'SLVR.', 'SLIV', 'SIVER', 'SILEV'):\n",
    "        df.set_value(i, 'vehicle_color', 'SILVER')\n",
    "    \n",
    "    # Fixing BLUE\n",
    "    elif color in ('BLU', 'BL/', 'BLUE.', 'BIU', 'BLU.', 'BRU', 'BLUED', 'BKLUE'):\n",
    "        df.set_value(i, 'vehicle_color', 'BLUE')\n",
    "        \n",
    "    # Fixing GOLD\n",
    "    elif color in ('GLD', 'GD', 'GOL'):\n",
    "        df.set_value(i, 'vehicle_color', 'GOLD')\n",
    "    \n",
    "    # Fixing ORANGE\n",
    "    elif color in ('ORANG', 'ORAN', 'OJ', 'COPPE', 'ORNAG', 'OG.', 'ORNG', 'ORANF'):\n",
    "        df.set_value(i, 'vehicle_color', 'ORANGE')\n",
    "    \n",
    "    # Fixing BROWN\n",
    "    elif color in ('BRN', 'BRW', 'MAROO', 'MAR', 'BRWN', 'MRN', 'MARON', 'BRWON', 'BR.', 'BRONW', 'BRNW'):\n",
    "        df.set_value(i, 'vehicle_color', 'BROWN')\n",
    "    \n",
    "    # Fixing BEIGE\n",
    "    elif color in ('BEIGE', 'BIEGE', 'BEGE', 'BAIGE', 'BEI'):\n",
    "        df.set_value(i, 'vehicle_color', 'BEIGE')\n",
    "    \n",
    "    # Fixing GREEN\n",
    "    elif color in ('GRN', 'GN.', 'Green', 'OLIVE', 'LT GN'):\n",
    "        df.set_value(i, 'vehicle_color', 'GREEN')\n",
    "        \n",
    "    # Fixing PURPLE\n",
    "    elif color in ('PURPL', 'PURP', 'PUR', 'VIOLE', 'PRPL'):\n",
    "        df.set_value(i, 'vehicle_color', 'PURPLE')\n",
    "        \n",
    "    # Fixing PINK\n",
    "    elif color in ('PK', 'ROSE'):\n",
    "        df.set_value(i, 'vehicle_color', 'PINK')"
   ]
  },
  {
   "cell_type": "code",
   "execution_count": 53,
   "metadata": {},
   "outputs": [],
   "source": [
    "# Flag all rows with colors we are not concerned with\n",
    "df.flag = ~df.vehicle_color.isin(color_dic)"
   ]
  },
  {
   "cell_type": "code",
   "execution_count": 54,
   "metadata": {},
   "outputs": [],
   "source": [
    "# Remove all flagged rows\n",
    "df = df.query('flag == False')"
   ]
  },
  {
   "cell_type": "code",
   "execution_count": 55,
   "metadata": {},
   "outputs": [],
   "source": [
    "# adding season and tod (time of day) columns to categorize time\n",
    "df['season'] = 'NaN'\n",
    "df['tod'] = 'NaN'"
   ]
  },
  {
   "cell_type": "code",
   "execution_count": 56,
   "metadata": {},
   "outputs": [
    {
     "name": "stderr",
     "output_type": "stream",
     "text": [
      "A:\\Anaconda3\\lib\\site-packages\\ipykernel\\__main__.py:2: FutureWarning: get_value is deprecated and will be removed in a future release. Please use .at[] or .iat[] accessors instead\n",
      "  from ipykernel import kernelapp as app\n",
      "A:\\Anaconda3\\lib\\site-packages\\ipykernel\\__main__.py:12: FutureWarning: set_value is deprecated and will be removed in a future release. Please use .at[] or .iat[] accessors instead\n",
      "A:\\Anaconda3\\lib\\site-packages\\ipykernel\\__main__.py:25: FutureWarning: set_value is deprecated and will be removed in a future release. Please use .at[] or .iat[] accessors instead\n",
      "A:\\Anaconda3\\lib\\site-packages\\ipykernel\\__main__.py:22: FutureWarning: set_value is deprecated and will be removed in a future release. Please use .at[] or .iat[] accessors instead\n",
      "A:\\Anaconda3\\lib\\site-packages\\ipykernel\\__main__.py:28: FutureWarning: set_value is deprecated and will be removed in a future release. Please use .at[] or .iat[] accessors instead\n",
      "A:\\Anaconda3\\lib\\site-packages\\ipykernel\\__main__.py:19: FutureWarning: set_value is deprecated and will be removed in a future release. Please use .at[] or .iat[] accessors instead\n",
      "A:\\Anaconda3\\lib\\site-packages\\ipykernel\\__main__.py:9: FutureWarning: set_value is deprecated and will be removed in a future release. Please use .at[] or .iat[] accessors instead\n",
      "A:\\Anaconda3\\lib\\site-packages\\ipykernel\\__main__.py:6: FutureWarning: set_value is deprecated and will be removed in a future release. Please use .at[] or .iat[] accessors instead\n",
      "A:\\Anaconda3\\lib\\site-packages\\ipykernel\\__main__.py:15: FutureWarning: set_value is deprecated and will be removed in a future release. Please use .at[] or .iat[] accessors instead\n"
     ]
    }
   ],
   "source": [
    "for i in df.index:\n",
    "    d = df.get_value(i, 'issue_date')\n",
    "  \n",
    "    # Season\n",
    "    if (d.month < 3) | (d.month == 12):\n",
    "        df.set_value(i, 'season', 'Winter')\n",
    "    \n",
    "    elif (d.month >= 3) & (d.month < 6):\n",
    "        df.set_value(i, 'season', 'Spring')\n",
    "    \n",
    "    elif (d.month >= 6) & (d.month < 9):\n",
    "        df.set_value(i, 'season', 'Summer')\n",
    "    \n",
    "    elif (d.month >= 9) & (d.month < 12):\n",
    "        df.set_value(i, 'season', 'Fall')\n",
    "     \n",
    "    # Time of Day\n",
    "    if d.hour < 6:\n",
    "        df.set_value(i, 'tod', 'Overnight')\n",
    "        \n",
    "    elif (d.hour >= 6) & (d.hour < 12):\n",
    "        df.set_value(i, 'tod', 'Morning')\n",
    "    \n",
    "    elif (d.hour >= 12) & (d.hour < 18):\n",
    "        df.set_value(i, 'tod', 'Afternoon')\n",
    "    \n",
    "    elif d.hour >= 18:\n",
    "        df.set_value(i, 'tod', 'Evening')"
   ]
  },
  {
   "cell_type": "code",
   "execution_count": 57,
   "metadata": {},
   "outputs": [],
   "source": [
    "df.drop('flag', axis = 1, inplace = True)"
   ]
  },
  {
   "cell_type": "code",
   "execution_count": 58,
   "metadata": {},
   "outputs": [
    {
     "name": "stdout",
     "output_type": "stream",
     "text": [
      "<class 'pandas.core.frame.DataFrame'>\n",
      "Int64Index: 3503449 entries, 4 to 5773657\n",
      "Data columns (total 9 columns):\n",
      "registration_state    object\n",
      "issue_date            datetime64[ns]\n",
      "violation_code        object\n",
      "vehicle_body_type     object\n",
      "vehicle_make          object\n",
      "vehicle_color         object\n",
      "vehicle_year          int64\n",
      "season                object\n",
      "tod                   object\n",
      "dtypes: datetime64[ns](1), int64(1), object(7)\n",
      "memory usage: 267.3+ MB\n"
     ]
    }
   ],
   "source": [
    "df.info()"
   ]
  },
  {
   "cell_type": "code",
   "execution_count": 59,
   "metadata": {},
   "outputs": [],
   "source": [
    "# write out wrangled data as csv\n",
    "df.to_csv('temp.csv', index = False)"
   ]
  },
  {
   "cell_type": "markdown",
   "metadata": {},
   "source": [
    "## Visualization"
   ]
  },
  {
   "cell_type": "markdown",
   "metadata": {},
   "source": [
    "### Registration State"
   ]
  },
  {
   "cell_type": "code",
   "execution_count": 60,
   "metadata": {},
   "outputs": [
    {
     "data": {
      "image/png": "[encoded data removed]",
      "text/plain": [
       "<Figure size 1008x504 with 1 Axes>"
      ]
     },
     "metadata": {},
     "output_type": "display_data"
    }
   ],
   "source": [
    "base_color = sb.color_palette()[2]\n",
    "state_order = df.registration_state.value_counts().index\n",
    "fig, ax = plt.subplots(figsize=(14, 7))\n",
    "sb.countplot(data = df, x = 'registration_state', color = base_color, order = state_order)\n",
    "plt.xlabel('Vehicle Registration State Abbv.')\n",
    "plt.ylabel('Count')\n",
    "plt.title('Count of Vehicle Registration State of Vehicles violating parking laws in NY of 2018')\n",
    "plt.xticks(rotation = 90);"
   ]
  },
  {
   "cell_type": "markdown",
   "metadata": {},
   "source": [
    "Not very exciting information here. In the state of NY, majority of registered vehicles will be registered in NY.   \n",
    "This is clearly represented in NY vehicles with parking violation."
   ]
  },
  {
   "cell_type": "markdown",
   "metadata": {},
   "source": [
    "### Violation Code"
   ]
  },
  {
   "cell_type": "code",
   "execution_count": 61,
   "metadata": {
    "scrolled": true
   },
   "outputs": [
    {
     "data": {
      "text/plain": [
       "21    533537\n",
       "38    403349\n",
       "36    357410\n",
       "20    261160\n",
       "14    249791\n",
       "71    230442\n",
       "7     185242\n",
       "37    173168\n",
       "46    163878\n",
       "40    158344\n",
       "70    121145\n",
       "5      75913\n",
       "16     75436\n",
       "19     67742\n",
       "69     66233\n",
       "31     40023\n",
       "17     37510\n",
       "74     37340\n",
       "50     26578\n",
       "42     22223\n",
       "47     19699\n",
       "51     19235\n",
       "48     18401\n",
       "78     15353\n",
       "9      14552\n",
       "10     12913\n",
       "53     12193\n",
       "82     10469\n",
       "18     10301\n",
       "98      9009\n",
       "       ...  \n",
       "4        127\n",
       "94        93\n",
       "25        89\n",
       "91        59\n",
       "59        45\n",
       "44        40\n",
       "0         29\n",
       "95        26\n",
       "96        25\n",
       "30        24\n",
       "66        23\n",
       "90        13\n",
       "81        13\n",
       "97        12\n",
       "29        11\n",
       "86        10\n",
       "33         6\n",
       "2          5\n",
       "3          5\n",
       "58         5\n",
       "57         4\n",
       "65         3\n",
       "55         3\n",
       "92         3\n",
       "1          3\n",
       "76         2\n",
       "88         2\n",
       "32         2\n",
       "43         1\n",
       "12         1\n",
       "Name: violation_code, Length: 95, dtype: int64"
      ]
     },
     "execution_count": 61,
     "metadata": {},
     "output_type": "execute_result"
    }
   ],
   "source": [
    "df.violation_code.value_counts()"
   ]
  },
  {
   "cell_type": "code",
   "execution_count": 62,
   "metadata": {},
   "outputs": [
    {
     "data": {
      "text/plain": [
       "0.5152770883777672"
      ]
     },
     "execution_count": 62,
     "metadata": {},
     "output_type": "execute_result"
    }
   ],
   "source": [
    "(df.query('violation_code == \"21\"').violation_code.count() + df.query('violation_code == \"38\"').violation_code.count() + df.query('violation_code == \"36\"').violation_code.count() + df.query('violation_code == \"20\"').violation_code.count() + df.query('violation_code == \"14\"').violation_code.count()) / df.violation_code.count() "
   ]
  },
  {
   "cell_type": "markdown",
   "metadata": {},
   "source": [
    "**Top 5 Parking Violations make up for the 50% of the dataset. The Top 5 being the following:**\n",
    "\n",
    "* 21: Street Cleaning: No parking where parking is not allowed by sign, street marking or traffic control device.\n",
    "* 38: Failing to show a receipt or tag in the windshield.\n",
    "* 36: Exceeding the posted speed limit in or near a designated school zone.\n",
    "* 20: General No Parking: No parking where parking is not allowed by sign, street marking or traffic control device.\n",
    "* 14: General No Standing: Standing or parking where standing is not allowed by sign, street marking or; traffic control device.\n",
    "\n",
    "**I am not totally sure why violation #36 is listed as a parking violation in this dataset when the violation itself is concerned with a moving vehicle.** \n",
    "\n",
    "For the scope of this study, it's easy to understand these top 5 parking violations in 3 groups in ascending order:\n",
    "1. Parking where you are not supposed to (21, 20, 14)\n",
    "2. No parking receipt (38)\n",
    "3. Disobeying speed limit near school zone (36)\n",
    "\n",
    "**I expect expired parking receipts to be in the top 10. Let us continue from top 6 to top 10 parking violations:**\n",
    "\n",
    "* 71: Standing or parking a vehicle without showing a current New York inspection sticker.\n",
    "* 7: Vehicles photographed going through a red light at an intersection\n",
    "* 37: Expired parking receipt\n",
    "* 46:Standing or parking on the roadway side of a vehicle stopped, standing or parked at the curb (double parking)\n",
    "* 40: Stopping, standing or parking closer than 15 feet of a fire hydrant.\n",
    "\n",
    "**Again, violation #7 also deals with a moving vehicle, but is recorded in the parking violation dataset. We conclude that these are human error and will be removed from this dataset**\n",
    "\n",
    "ref: https://www1.nyc.gov/site/finance/vehicles/services-violation-codes.page"
   ]
  },
  {
   "cell_type": "code",
   "execution_count": 63,
   "metadata": {},
   "outputs": [],
   "source": [
    "# dropping data with non-parking violations\n",
    "df = df[(df.violation_code != '36') & (df.violation_code != '7') & (df.violation_code != '5')]"
   ]
  },
  {
   "cell_type": "code",
   "execution_count": 64,
   "metadata": {},
   "outputs": [
    {
     "data": {
      "image/png": "[encoded data removed]",
      "text/plain": [
       "<Figure size 1152x720 with 1 Axes>"
      ]
     },
     "metadata": {},
     "output_type": "display_data"
    }
   ],
   "source": [
    "base_color = sb.color_palette()[2]\n",
    "vio_order = df.violation_code.value_counts().index\n",
    "fig, ax = plt.subplots(figsize=(16, 10))\n",
    "sb.countplot(data = df, x = 'violation_code', color = base_color, order = vio_order)\n",
    "plt.xlabel('Violation Code')\n",
    "plt.ylabel('Count')\n",
    "plt.title('Count of Violation Code of Vehicles violating parking laws in NY of 2018')\n",
    "plt.xticks(rotation = 90);"
   ]
  },
  {
   "cell_type": "markdown",
   "metadata": {},
   "source": [
    "**After removing non-parking violation in top 10, the top 10 parking violations in NY in 2018 are as follows (in ascending order):**\n",
    "\n",
    "* 21: Street Cleaning: No parking where parking is not allowed by sign, street marking or traffic control device.\n",
    "* 38: Failing to show a receipt or tag in the windshield.\n",
    "* 20: General No Parking: No parking where parking is not allowed by sign, street marking or traffic control device.\n",
    "* 14: General No Standing: Standing or parking where standing is not allowed by sign, street marking or; traffic control device.\n",
    "* 71: Standing or parking a vehicle without showing a current New York inspection sticker.\n",
    "* 37: Expired parking receipt\n",
    "* 46: Standing or parking on the roadway side of a vehicle stopped, standing or parked at the curb (double parking)\n",
    "* 40: Stopping, standing or parking closer than 15 feet of a fire hydrant.\n",
    "* 70: Standing or parking a vehicle without showing a current New York registration sticker.\n",
    "* 16: Truck Loading/Unloading: Standing or parking where standing is not allowed by sign, street marking or; traffic control device."
   ]
  },
  {
   "cell_type": "code",
   "execution_count": 65,
   "metadata": {},
   "outputs": [
    {
     "data": {
      "text/plain": [
       "0.8216101583287231"
      ]
     },
     "execution_count": 65,
     "metadata": {},
     "output_type": "execute_result"
    }
   ],
   "source": [
    "code_list = ['21', '38', '20', '14', '71', '37', '46', '40', '70', '16']\n",
    "df.query('violation_code == @code_list').violation_code.value_counts().sum() / df.violation_code.count()"
   ]
  },
  {
   "cell_type": "markdown",
   "metadata": {},
   "source": [
    "**The top 10 parking violation can be further summarized as follows:**\n",
    "1. Parking where you are not supposed to (21, 20, 14, 46, 40, 16)\n",
    "2. No parking receipt displayed on windshield (38)\n",
    "3. No current NY Vehicle Inspection sticker\n",
    "4. Expired parking receipt\n",
    "5. No current NY Vehicle Registration sticker\n",
    "\n",
    "These 5 parking violations were responsible for 82.2% of all parking violations in NY in 2018"
   ]
  },
  {
   "cell_type": "markdown",
   "metadata": {},
   "source": [
    "### Vehicle Body Types"
   ]
  },
  {
   "cell_type": "code",
   "execution_count": 66,
   "metadata": {},
   "outputs": [
    {
     "data": {
      "image/png": "[encoded data removed]",
      "text/plain": [
       "<Figure size 864x576 with 1 Axes>"
      ]
     },
     "metadata": {},
     "output_type": "display_data"
    }
   ],
   "source": [
    "# order by value counts index / change color\n",
    "body_order = df.vehicle_body_type.value_counts().index\n",
    "\n",
    "fig, ax = plt.subplots(figsize=(12, 8))\n",
    "sb.countplot(data = df, x = 'vehicle_body_type', order = body_order, color = base_color)\n",
    "plt.title('Count of Vehicle Body Type of Vehicles violating parking laws in NY in 2018')\n",
    "plt.xlabel('Vehicle Body Type')\n",
    "plt.ylabel('Count')\n",
    "plt.xticks(rotation = 90);"
   ]
  },
  {
   "cell_type": "code",
   "execution_count": 67,
   "metadata": {},
   "outputs": [
    {
     "data": {
      "text/plain": [
       "0.8961136738946869"
      ]
     },
     "execution_count": 67,
     "metadata": {},
     "output_type": "execute_result"
    }
   ],
   "source": [
    "(df.query('vehicle_body_type == \"SUBN\"').vehicle_body_type.count() + df.query('vehicle_body_type == \"4DSD\"').vehicle_body_type.count() + df.query('vehicle_body_type == \"VAN\"').vehicle_body_type.count()) / df.vehicle_body_type.count()"
   ]
  },
  {
   "cell_type": "markdown",
   "metadata": {},
   "source": [
    "Almost 90% (~89.6%) of all cars that violated NY parking law in 2018 were all either an SUV, 4 Door Sedan, or a Van (Minivan included). Important to note that this may just be a representation of all vehicles in NY, not that the above vehicles are more likely to violate parking laws. We can also see that there are less Sports cars (2DSD) than traditional 4 Door sedans, less buses than taxis, which would be true in any city in North America, further supporting the idea that this distribution represents the NY vehicle popluation as a whole. "
   ]
  },
  {
   "cell_type": "markdown",
   "metadata": {},
   "source": [
    "### Vehicle Make"
   ]
  },
  {
   "cell_type": "code",
   "execution_count": 68,
   "metadata": {},
   "outputs": [
    {
     "data": {
      "image/png": "[encoded data removed]",
      "text/plain": [
       "<Figure size 1152x720 with 1 Axes>"
      ]
     },
     "metadata": {},
     "output_type": "display_data"
    }
   ],
   "source": [
    "make_order = df.vehicle_make.value_counts().index\n",
    "\n",
    "fig, ax = plt.subplots(figsize=(16, 10))\n",
    "sb.countplot(data = df, x = 'vehicle_make', order = make_order, color = base_color)\n",
    "plt.title('Count of Vehicle Make of Vehicles violating parking laws in NY in 2018')\n",
    "plt.xlabel('Vehicle Make (Manufacturer)')\n",
    "plt.ylabel('Count')\n",
    "plt.xticks(rotation = 90);"
   ]
  },
  {
   "cell_type": "code",
   "execution_count": 69,
   "metadata": {
    "scrolled": true
   },
   "outputs": [
    {
     "data": {
      "text/plain": [
       "0.5280250436412695"
      ]
     },
     "execution_count": 69,
     "metadata": {},
     "output_type": "execute_result"
    }
   ],
   "source": [
    "(df.query('vehicle_make == \"FORD\"').vehicle_make.count() + df.query('vehicle_make == \"TOYOT\"').vehicle_make.count() + df.query('vehicle_make == \"HONDA\"').vehicle_make.count() + df.query('vehicle_make == \"NISSA\"').vehicle_make.count() + df.query('vehicle_make == \"CHEVR\"').vehicle_make.count()) / df.vehicle_make.count()"
   ]
  },
  {
   "cell_type": "markdown",
   "metadata": {},
   "source": [
    "The Top 5 most common vehicle manufacturers make up more than 50% (~53%) of all vehicles that violated parking laws in NY in 2018. Again, it's important to note that the Top 5 vehicles represented here does not predict which vehicles make is most likely to violate parking law, but is simply a representation of vehicles that violated parking law in NY in 2018, and is most likely a representative sample of the whole vehicle population in NY of 2018. \n",
    "\n",
    "From our everyday lives and our time on the road, this data does not seem too far from what one would expect on the roads of NY. We've got budget and economy-friendly cars in the Top 5. As we reach the lower end, we start seeing luxury cars like Ferrari, Lamborghini, Ducati, and Rolls Royce."
   ]
  },
  {
   "cell_type": "markdown",
   "metadata": {},
   "source": [
    "### Vehicle Color"
   ]
  },
  {
   "cell_type": "code",
   "execution_count": 70,
   "metadata": {},
   "outputs": [
    {
     "data": {
      "image/png": "[encoded data removed]",
      "text/plain": [
       "<Figure size 864x432 with 1 Axes>"
      ]
     },
     "metadata": {},
     "output_type": "display_data"
    }
   ],
   "source": [
    "color_order = df.vehicle_color.value_counts().index\n",
    "\n",
    "fig, ax = plt.subplots(figsize=(12, 6))\n",
    "sb.countplot(data = df, x = 'vehicle_color', order = color_order, color = base_color)\n",
    "plt.title('Count of Vehicle Color of Vehicles violating parking laws in NY in 2018')\n",
    "plt.xlabel('Vehicle Color')\n",
    "plt.ylabel('Count')\n",
    "plt.xticks(rotation = 90);"
   ]
  },
  {
   "cell_type": "code",
   "execution_count": 71,
   "metadata": {},
   "outputs": [
    {
     "data": {
      "text/plain": [
       "0.8860938602730647"
      ]
     },
     "execution_count": 71,
     "metadata": {},
     "output_type": "execute_result"
    }
   ],
   "source": [
    "(df.query('vehicle_color == \"WHITE\"').vehicle_color.count() + df.query('vehicle_color == \"GRAY\"').vehicle_color.count() + df.query('vehicle_color == \"BLACK\"').vehicle_color.count()) / df.vehicle_color.count()"
   ]
  },
  {
   "cell_type": "markdown",
   "metadata": {},
   "source": [
    "Top 3 most common color of vehicle to violate parking law in NY in 2018 are not surprisingly monochrome colors, White, Gray, and Black, as one would expect from their time on the road in virtually any city in North America. \n",
    "\n",
    "These 3 color vehicles make up 89% (~88.6%) of all vehicles found to be violating a parking law in NY in 2018.\n",
    "\n",
    "There is a huge decline in vehicles in other colors starting with Red. This is likely due to colors outside of the Top 3 increasing automobile insurance cost rather than personal preference, manufacturers focusing their production on Top 3 colors to save cost, a combined effect of both or additional factors. "
   ]
  },
  {
   "cell_type": "markdown",
   "metadata": {},
   "source": [
    "### Vehicle Year"
   ]
  },
  {
   "cell_type": "code",
   "execution_count": 72,
   "metadata": {},
   "outputs": [
    {
     "data": {
      "image/png": "[encoded data removed]",
      "text/plain": [
       "<Figure size 1152x720 with 1 Axes>"
      ]
     },
     "metadata": {},
     "output_type": "display_data"
    }
   ],
   "source": [
    "fig, ax = plt.subplots(figsize=(16, 10))\n",
    "sb.countplot(data = df, x = 'vehicle_year', color = base_color)\n",
    "plt.title('Count of Vehicle Year of Vehicles violating parking laws in NY in 2018')\n",
    "plt.xlabel('Vehicle Year')\n",
    "plt.ylabel('Count')\n",
    "plt.xticks(rotation = 90);"
   ]
  },
  {
   "cell_type": "markdown",
   "metadata": {},
   "source": [
    "There are a few things to be highlighted in this graph. First, 2019 vehicle models are released and sold throughout 2018. This is exactly why we are seeing 2019 vehicles in this dataset. Given that there was at most 12 months to sell 2019 model vehicles, this is clearly represented in the low number of 2019 year model vehicles. This effect is applied to 2018 model vehicles as well where the vehicles have had roughly 2 years in the market at most.\n",
    "\n",
    "Secondly, we see that there is generally a diminishing trend in older vehicles. Assuming this dataset represents the whole population of vehicles in NY, this points to the fact that older cars are more susceptible to breaking down and no longer driven. The Top 3 vehicle years that violated parking laws in 2018 are 2017, 2016, and 2018 in descending order.\n",
    "\n",
    "Lastly, I want to point out the small dip in vehicles going from 2008 to 2009, where both vehicle year models had plenty of time to be sold (~10 years since dataset is from 2018). Why would the vehicle count suddenly drop for 2009 models when there is a steady increasing trend in the past years? \n",
    "\n",
    "I would like to attribute this to the economic recession in US in 2008, which officially started in 2007, but really started affecting consumers in 2008, robbing their ability to purchase new vehicle models, which would be 2009. The automotive industry was hit very hard in the Great Recession, which should also be related with lower production of 2009 vehicle models."
   ]
  },
  {
   "cell_type": "markdown",
   "metadata": {},
   "source": [
    "### Season"
   ]
  },
  {
   "cell_type": "code",
   "execution_count": 73,
   "metadata": {},
   "outputs": [],
   "source": [
    "# Let's create a new class and follow traditional order of seasons as written below:\n",
    "season_classes = ['Spring', 'Summer', 'Fall', 'Winter']\n",
    "\n",
    "pd_ver = pd.__version__.split(\".\")\n",
    "if (int(pd_ver[0]) > 0) or (int(pd_ver[1]) >= 21): # v0.21 or later\n",
    "    sclasses = pd.api.types.CategoricalDtype(ordered = True, categories = season_classes)\n",
    "    df['season'] = df['season'].astype(sclasses)\n",
    "else: # pre-v0.21\n",
    "    df['season'] = df['season'].astype('category', ordered = True, categories = season_classes)"
   ]
  },
  {
   "cell_type": "code",
   "execution_count": 74,
   "metadata": {},
   "outputs": [
    {
     "data": {
      "image/png": "[encoded data removed]",
      "text/plain": [
       "<Figure size 720x432 with 1 Axes>"
      ]
     },
     "metadata": {},
     "output_type": "display_data"
    }
   ],
   "source": [
    "fig, ax = plt.subplots(figsize=(10, 6))\n",
    "sb.countplot(data = df, x = 'season', color = base_color)\n",
    "plt.title('Distribution of Parking Violations made in the Seasons of NY in 2018')\n",
    "plt.xlabel('Season')\n",
    "plt.ylabel('Count');"
   ]
  },
  {
   "cell_type": "code",
   "execution_count": 75,
   "metadata": {},
   "outputs": [
    {
     "data": {
      "text/plain": [
       "0.8684255588786239"
      ]
     },
     "execution_count": 75,
     "metadata": {},
     "output_type": "execute_result"
    }
   ],
   "source": [
    "(df.query('season == \"Summer\"').season.count() + df.query('season == \"Fall\"').season.count()) / df.season.count()"
   ]
  },
  {
   "cell_type": "code",
   "execution_count": 76,
   "metadata": {},
   "outputs": [
    {
     "data": {
      "text/plain": [
       "295"
      ]
     },
     "execution_count": 76,
     "metadata": {},
     "output_type": "execute_result"
    }
   ],
   "source": [
    "df.query('season == \"Spring\"').season.count()"
   ]
  },
  {
   "cell_type": "markdown",
   "metadata": {},
   "source": [
    "Before further discussion regarding the data, I would like to point out that I classified the following months into each seasons:\n",
    "* Spring: March - May\n",
    "* Summer: June - August\n",
    "* Fall: September - November\n",
    "* Winter: December - February\n",
    "\n",
    "Parking violations filed between June and November make up roughly 87% (~86.8%) of all parking violations in NY in 2018.\n",
    "\n",
    "What happened to parking violations in the Spring of 2018 in New York? It seems impossible that only 295 parking violations had been reported in the Spring of 2018. \n",
    "\n",
    "The rest of data seems to align with common assumptions of human activity. People are less likely to go out when the weather is not cooperative, especially in Winter (and Winter in NY can get quite cold!) and this applies for both drivers and parking enforcement. Hence, we see a huge drop in parking violations in the Winter months.\n",
    "\n",
    "I will need spend additional time on the dataset to determine whether my wrangling process resulted in Spring month parking violations being removed from the dataset OR if the dataset is incomplete due to human error or by an unpreventable cause."
   ]
  },
  {
   "cell_type": "markdown",
   "metadata": {},
   "source": [
    "### Time of Day"
   ]
  },
  {
   "cell_type": "code",
   "execution_count": 77,
   "metadata": {},
   "outputs": [],
   "source": [
    "tod_classes = ['Morning', 'Afternoon', 'Evening', 'Overnight']\n",
    "\n",
    "pd_ver = pd.__version__.split(\".\")\n",
    "if (int(pd_ver[0]) > 0) or (int(pd_ver[1]) >= 21): # v0.21 or later\n",
    "    tclasses = pd.api.types.CategoricalDtype(ordered = True, categories = tod_classes)\n",
    "    df['tod'] = df['tod'].astype(tclasses)\n",
    "else: # pre-v0.21\n",
    "    df['tod'] = df['tod'].astype('category', ordered = True, categories = tod_classes)"
   ]
  },
  {
   "cell_type": "code",
   "execution_count": 78,
   "metadata": {
    "scrolled": false
   },
   "outputs": [
    {
     "data": {
      "image/png": "[encoded data removed]",
      "text/plain": [
       "<Figure size 720x432 with 1 Axes>"
      ]
     },
     "metadata": {},
     "output_type": "display_data"
    }
   ],
   "source": [
    "fig, ax = plt.subplots(figsize=(10, 6))\n",
    "sb.countplot(data = df, x = 'tod', color = base_color)\n",
    "plt.title('Distribution of Parking Violations made in various Time of Day in NY in 2018')\n",
    "plt.xlabel('Time of Day')\n",
    "plt.ylabel('Count');"
   ]
  },
  {
   "cell_type": "code",
   "execution_count": 79,
   "metadata": {},
   "outputs": [
    {
     "data": {
      "text/plain": [
       "0.8255264336451656"
      ]
     },
     "execution_count": 79,
     "metadata": {},
     "output_type": "execute_result"
    }
   ],
   "source": [
    "(df.query('tod == \"Morning\"').tod.count() + df.query('tod == \"Afternoon\"').tod.count()) / df.tod.count()"
   ]
  },
  {
   "cell_type": "markdown",
   "metadata": {},
   "source": [
    "Before further discussion regarding the data, I would like to point out that I classified the following hours into each time of day:\n",
    "* Overnight: 00:00 - 05:59\n",
    "* Morning: 06:00 - 11:59\n",
    "* Afternoon: 12:00 - 17:59\n",
    "* Evening: 18:00 - 23-59\n",
    "\n",
    "The above data seem to align with common assumptions of human activity. We take vehicles out the most during morning and afternoon, usually due to work or going outside in general.\n",
    "\n",
    "Parking violations filed between 06:00 - 17:59 make up roughly 83% of all parking violations in NY in 2018."
   ]
  },
  {
   "cell_type": "markdown",
   "metadata": {},
   "source": [
    "## Conclusion"
   ]
  },
  {
   "cell_type": "markdown",
   "metadata": {},
   "source": [
    "Through this analysis I was able to confirm common conceptions regarding city parking violations, such as when most parking violations occur, which violations are most common, and what color of cars. As I was not provided with the data of the whole vehicle population of NY, I was not able to build a prediction model for what kind of cars are likely to cause a parking violation. However, I have gained a tremendous amount of experience in working with large datasets (This one has more than 5 million rows) and programmatically assessing and wrangling data.\n",
    "\n",
    "I promise to come back to this dataset to visualize further insights with tableau!"
   ]
  }
 ],
 "metadata": {
  "kernelspec": {
   "display_name": "Python 3",
   "language": "python",
   "name": "python3"
  },
  "language_info": {
   "codemirror_mode": {
    "name": "ipython",
    "version": 3
   },
   "file_extension": ".py",
   "mimetype": "text/x-python",
   "name": "python",
   "nbconvert_exporter": "python",
   "pygments_lexer": "ipython3",
   "version": "3.6.5"
  }
 },
 "nbformat": 4,
 "nbformat_minor": 2
}
