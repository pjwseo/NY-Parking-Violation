{
 "cells": [
  {
   "cell_type": "markdown",
   "metadata": {},
   "source": [
    "# Project: How do Movie Metrics affects its viewer rating on iMDB?"
   ]
  },
  {
   "cell_type": "markdown",
   "metadata": {},
   "source": [
    "## Table of Contents:\n",
    "* [Introduction](#1)\n",
    "* [Wrangling](#2)\n",
    "* [Exploratory Visuals](#3)\n",
    "* [Explanatory Visuals](#4)\n",
    "* [Conclusion](#5)"
   ]
  },
  {
   "cell_type": "markdown",
   "metadata": {},
   "source": [
    "## Introduction:<a class=\"anchor\" id=\"1\"></a>\n",
    "Have you ever browsed iMDB looking for good movies to watch, sorted by rating? Or browsing the movie you just watched on iMDB, only to find that it has a shockingly low or high viewer rating? What can we say about the high or low ratings of a movie on iMDB?\n",
    "\n",
    "We take a dive into the dataset provided by Kaggle (but now replaced with TMDB ratings due to DMCA Takedown https://www.kaggle.com/tmdb/tmdb-movie-metadata/home) to see what's going on behind these scores!"
   ]
  },
  {
   "cell_type": "code",
   "execution_count": 1,
   "metadata": {},
   "outputs": [],
   "source": [
    "# import all packages and set plots to be embedded inline\n",
    "import numpy as np\n",
    "import pandas as pd\n",
    "import matplotlib.pyplot as plt\n",
    "import seaborn as sb\n",
    "from patsy import dmatrices\n",
    "import statsmodels.api as sm;\n",
    "from datetime import datetime, timedelta\n",
    "from statsmodels.stats.outliers_influence import variance_inflation_factor\n",
    "\n",
    "%matplotlib inline"
   ]
  },
  {
   "cell_type": "code",
   "execution_count": 10,
   "metadata": {},
   "outputs": [],
   "source": [
    "# Large dataset, we want to see all columns\n",
    "pd.set_option('display.max_columns', None)"
   ]
  },
  {
   "cell_type": "code",
   "execution_count": 11,
   "metadata": {},
   "outputs": [],
   "source": [
    "# read in .csv\n",
    "df_og = pd.read_csv('parking-violations-issued-fiscal-year-2018.csv', low_memory = False)"
   ]
  },
  {
   "cell_type": "markdown",
   "metadata": {},
   "source": [
    "## Wrangling:"
   ]
  },
  {
   "cell_type": "code",
   "execution_count": 12,
   "metadata": {},
   "outputs": [],
   "source": [
    "df = df_og.copy()"
   ]
  },
  {
   "cell_type": "code",
   "execution_count": 13,
   "metadata": {},
   "outputs": [],
   "source": [
    "# Taking the columns we want to work with\n",
    "df = df[['Registration State', 'Issue Date', 'Violation Time', 'Violation Code', 'Street Name', 'Sub Division',\n",
    "        'Vehicle Body Type', 'Vehicle Make', 'Vehicle Color', 'Vehicle Year']]"
   ]
  },
  {
   "cell_type": "code",
   "execution_count": 14,
   "metadata": {},
   "outputs": [
    {
     "data": {
      "text/html": [
       "<div>\n",
       "<style scoped>\n",
       "    .dataframe tbody tr th:only-of-type {\n",
       "        vertical-align: middle;\n",
       "    }\n",
       "\n",
       "    .dataframe tbody tr th {\n",
       "        vertical-align: top;\n",
       "    }\n",
       "\n",
       "    .dataframe thead th {\n",
       "        text-align: right;\n",
       "    }\n",
       "</style>\n",
       "<table border=\"1\" class=\"dataframe\">\n",
       "  <thead>\n",
       "    <tr style=\"text-align: right;\">\n",
       "      <th></th>\n",
       "      <th>Registration State</th>\n",
       "      <th>Issue Date</th>\n",
       "      <th>Violation Time</th>\n",
       "      <th>Violation Code</th>\n",
       "      <th>Street Name</th>\n",
       "      <th>Sub Division</th>\n",
       "      <th>Vehicle Body Type</th>\n",
       "      <th>Vehicle Make</th>\n",
       "      <th>Vehicle Color</th>\n",
       "      <th>Vehicle Year</th>\n",
       "    </tr>\n",
       "  </thead>\n",
       "  <tbody>\n",
       "    <tr>\n",
       "      <th>0</th>\n",
       "      <td>NY</td>\n",
       "      <td>2018-07-03T00:00:00.000</td>\n",
       "      <td>0811P</td>\n",
       "      <td>14</td>\n",
       "      <td>HANSON PLACE</td>\n",
       "      <td>D1</td>\n",
       "      <td>SDN</td>\n",
       "      <td>HONDA</td>\n",
       "      <td>BLUE</td>\n",
       "      <td>2006</td>\n",
       "    </tr>\n",
       "    <tr>\n",
       "      <th>1</th>\n",
       "      <td>NY</td>\n",
       "      <td>2018-06-28T00:00:00.000</td>\n",
       "      <td>1145A</td>\n",
       "      <td>46</td>\n",
       "      <td>AUSTIN ST</td>\n",
       "      <td>C</td>\n",
       "      <td>SDN</td>\n",
       "      <td>NISSA</td>\n",
       "      <td>GRY</td>\n",
       "      <td>2017</td>\n",
       "    </tr>\n",
       "    <tr>\n",
       "      <th>2</th>\n",
       "      <td>NY</td>\n",
       "      <td>2018-06-08T00:00:00.000</td>\n",
       "      <td>0355P</td>\n",
       "      <td>24</td>\n",
       "      <td>GREAT KILLS BOAT LAU</td>\n",
       "      <td>D5</td>\n",
       "      <td>SUBN</td>\n",
       "      <td>JEEP</td>\n",
       "      <td>GREEN</td>\n",
       "      <td>0</td>\n",
       "    </tr>\n",
       "    <tr>\n",
       "      <th>3</th>\n",
       "      <td>NC</td>\n",
       "      <td>2018-06-07T00:00:00.000</td>\n",
       "      <td>0123P</td>\n",
       "      <td>24</td>\n",
       "      <td>GREAT KILLS PARK BOA</td>\n",
       "      <td>D5</td>\n",
       "      <td>P-U</td>\n",
       "      <td>FORD</td>\n",
       "      <td>WHITE</td>\n",
       "      <td>0</td>\n",
       "    </tr>\n",
       "    <tr>\n",
       "      <th>4</th>\n",
       "      <td>NY</td>\n",
       "      <td>2018-06-29T00:00:00.000</td>\n",
       "      <td>0514P</td>\n",
       "      <td>17</td>\n",
       "      <td>HANSON PLACE</td>\n",
       "      <td>C4</td>\n",
       "      <td>SUBN</td>\n",
       "      <td>HYUND</td>\n",
       "      <td>GREEN</td>\n",
       "      <td>2007</td>\n",
       "    </tr>\n",
       "  </tbody>\n",
       "</table>\n",
       "</div>"
      ],
      "text/plain": [
       "  Registration State               Issue Date Violation Time  Violation Code  \\\n",
       "0                 NY  2018-07-03T00:00:00.000          0811P              14   \n",
       "1                 NY  2018-06-28T00:00:00.000          1145A              46   \n",
       "2                 NY  2018-06-08T00:00:00.000          0355P              24   \n",
       "3                 NC  2018-06-07T00:00:00.000          0123P              24   \n",
       "4                 NY  2018-06-29T00:00:00.000          0514P              17   \n",
       "\n",
       "            Street Name Sub Division Vehicle Body Type Vehicle Make  \\\n",
       "0          HANSON PLACE           D1               SDN        HONDA   \n",
       "1             AUSTIN ST            C               SDN        NISSA   \n",
       "2  GREAT KILLS BOAT LAU           D5              SUBN         JEEP   \n",
       "3  GREAT KILLS PARK BOA           D5               P-U         FORD   \n",
       "4          HANSON PLACE           C4              SUBN        HYUND   \n",
       "\n",
       "  Vehicle Color  Vehicle Year  \n",
       "0          BLUE          2006  \n",
       "1           GRY          2017  \n",
       "2         GREEN             0  \n",
       "3         WHITE             0  \n",
       "4         GREEN          2007  "
      ]
     },
     "execution_count": 14,
     "metadata": {},
     "output_type": "execute_result"
    }
   ],
   "source": [
    "df.head()"
   ]
  },
  {
   "cell_type": "markdown",
   "metadata": {},
   "source": [
    "### Data Issues\n",
    "* column names: add _ between blank space and all lower case\n",
    "* violation code is type int -> cast as string\n",
    "* combine issue date + violation time"
   ]
  },
  {
   "cell_type": "code",
   "execution_count": 15,
   "metadata": {},
   "outputs": [],
   "source": [
    "df.drop_duplicates(inplace = True)\n",
    "df.dropna(inplace = True)"
   ]
  },
  {
   "cell_type": "code",
   "execution_count": 16,
   "metadata": {},
   "outputs": [
    {
     "data": {
      "text/plain": [
       "(5906123, 43)"
      ]
     },
     "execution_count": 16,
     "metadata": {},
     "output_type": "execute_result"
    }
   ],
   "source": [
    "df_og.shape"
   ]
  },
  {
   "cell_type": "code",
   "execution_count": null,
   "metadata": {},
   "outputs": [],
   "source": []
  },
  {
   "cell_type": "code",
   "execution_count": 24,
   "metadata": {},
   "outputs": [
    {
     "name": "stdout",
     "output_type": "stream",
     "text": [
      "2020-05-17 09:59:00\n"
     ]
    }
   ],
   "source": [
    "# Playing around with datetime objects to learn them\n",
    "\n",
    "x = datetime(2020, 5, 17)\n",
    "x = x + timedelta(hours=9, minutes=59)\n",
    "\n",
    "print(x)"
   ]
  },
  {
   "cell_type": "code",
   "execution_count": 18,
   "metadata": {},
   "outputs": [],
   "source": [
    "# Convert Issue Date to datetime object\n",
    "df['Issue Date'] = pd.to_datetime(df['Issue Date'])"
   ]
  },
  {
   "cell_type": "code",
   "execution_count": 19,
   "metadata": {},
   "outputs": [
    {
     "data": {
      "text/html": [
       "<div>\n",
       "<style scoped>\n",
       "    .dataframe tbody tr th:only-of-type {\n",
       "        vertical-align: middle;\n",
       "    }\n",
       "\n",
       "    .dataframe tbody tr th {\n",
       "        vertical-align: top;\n",
       "    }\n",
       "\n",
       "    .dataframe thead th {\n",
       "        text-align: right;\n",
       "    }\n",
       "</style>\n",
       "<table border=\"1\" class=\"dataframe\">\n",
       "  <thead>\n",
       "    <tr style=\"text-align: right;\">\n",
       "      <th></th>\n",
       "      <th>Registration State</th>\n",
       "      <th>Issue Date</th>\n",
       "      <th>Violation Time</th>\n",
       "      <th>Violation Code</th>\n",
       "      <th>Street Name</th>\n",
       "      <th>Sub Division</th>\n",
       "      <th>Vehicle Body Type</th>\n",
       "      <th>Vehicle Make</th>\n",
       "      <th>Vehicle Color</th>\n",
       "      <th>Vehicle Year</th>\n",
       "    </tr>\n",
       "  </thead>\n",
       "  <tbody>\n",
       "    <tr>\n",
       "      <th>0</th>\n",
       "      <td>NY</td>\n",
       "      <td>2018-07-03</td>\n",
       "      <td>0811P</td>\n",
       "      <td>14</td>\n",
       "      <td>HANSON PLACE</td>\n",
       "      <td>D1</td>\n",
       "      <td>SDN</td>\n",
       "      <td>HONDA</td>\n",
       "      <td>BLUE</td>\n",
       "      <td>2006</td>\n",
       "    </tr>\n",
       "    <tr>\n",
       "      <th>1</th>\n",
       "      <td>NY</td>\n",
       "      <td>2018-06-28</td>\n",
       "      <td>1145A</td>\n",
       "      <td>46</td>\n",
       "      <td>AUSTIN ST</td>\n",
       "      <td>C</td>\n",
       "      <td>SDN</td>\n",
       "      <td>NISSA</td>\n",
       "      <td>GRY</td>\n",
       "      <td>2017</td>\n",
       "    </tr>\n",
       "    <tr>\n",
       "      <th>2</th>\n",
       "      <td>NY</td>\n",
       "      <td>2018-06-08</td>\n",
       "      <td>0355P</td>\n",
       "      <td>24</td>\n",
       "      <td>GREAT KILLS BOAT LAU</td>\n",
       "      <td>D5</td>\n",
       "      <td>SUBN</td>\n",
       "      <td>JEEP</td>\n",
       "      <td>GREEN</td>\n",
       "      <td>0</td>\n",
       "    </tr>\n",
       "    <tr>\n",
       "      <th>3</th>\n",
       "      <td>NC</td>\n",
       "      <td>2018-06-07</td>\n",
       "      <td>0123P</td>\n",
       "      <td>24</td>\n",
       "      <td>GREAT KILLS PARK BOA</td>\n",
       "      <td>D5</td>\n",
       "      <td>P-U</td>\n",
       "      <td>FORD</td>\n",
       "      <td>WHITE</td>\n",
       "      <td>0</td>\n",
       "    </tr>\n",
       "    <tr>\n",
       "      <th>4</th>\n",
       "      <td>NY</td>\n",
       "      <td>2018-06-29</td>\n",
       "      <td>0514P</td>\n",
       "      <td>17</td>\n",
       "      <td>HANSON PLACE</td>\n",
       "      <td>C4</td>\n",
       "      <td>SUBN</td>\n",
       "      <td>HYUND</td>\n",
       "      <td>GREEN</td>\n",
       "      <td>2007</td>\n",
       "    </tr>\n",
       "  </tbody>\n",
       "</table>\n",
       "</div>"
      ],
      "text/plain": [
       "  Registration State Issue Date Violation Time  Violation Code  \\\n",
       "0                 NY 2018-07-03          0811P              14   \n",
       "1                 NY 2018-06-28          1145A              46   \n",
       "2                 NY 2018-06-08          0355P              24   \n",
       "3                 NC 2018-06-07          0123P              24   \n",
       "4                 NY 2018-06-29          0514P              17   \n",
       "\n",
       "            Street Name Sub Division Vehicle Body Type Vehicle Make  \\\n",
       "0          HANSON PLACE           D1               SDN        HONDA   \n",
       "1             AUSTIN ST            C               SDN        NISSA   \n",
       "2  GREAT KILLS BOAT LAU           D5              SUBN         JEEP   \n",
       "3  GREAT KILLS PARK BOA           D5               P-U         FORD   \n",
       "4          HANSON PLACE           C4              SUBN        HYUND   \n",
       "\n",
       "  Vehicle Color  Vehicle Year  \n",
       "0          BLUE          2006  \n",
       "1           GRY          2017  \n",
       "2         GREEN             0  \n",
       "3         WHITE             0  \n",
       "4         GREEN          2007  "
      ]
     },
     "execution_count": 19,
     "metadata": {},
     "output_type": "execute_result"
    }
   ],
   "source": [
    "df.head()"
   ]
  },
  {
   "cell_type": "code",
   "execution_count": 21,
   "metadata": {},
   "outputs": [
    {
     "name": "stderr",
     "output_type": "stream",
     "text": [
      "A:\\Anaconda3\\lib\\site-packages\\ipykernel\\__main__.py:1: SettingWithCopyWarning: \n",
      "A value is trying to be set on a copy of a slice from a DataFrame\n",
      "\n",
      "See the caveats in the documentation: http://pandas.pydata.org/pandas-docs/stable/indexing.html#indexing-view-versus-copy\n",
      "  if __name__ == '__main__':\n"
     ]
    }
   ],
   "source": [
    "df['Issue Date'][0] = df['Issue Date'][0] + timedelta(hours=9, minutes=59)"
   ]
  },
  {
   "cell_type": "code",
   "execution_count": 22,
   "metadata": {},
   "outputs": [
    {
     "data": {
      "text/html": [
       "<div>\n",
       "<style scoped>\n",
       "    .dataframe tbody tr th:only-of-type {\n",
       "        vertical-align: middle;\n",
       "    }\n",
       "\n",
       "    .dataframe tbody tr th {\n",
       "        vertical-align: top;\n",
       "    }\n",
       "\n",
       "    .dataframe thead th {\n",
       "        text-align: right;\n",
       "    }\n",
       "</style>\n",
       "<table border=\"1\" class=\"dataframe\">\n",
       "  <thead>\n",
       "    <tr style=\"text-align: right;\">\n",
       "      <th></th>\n",
       "      <th>Registration State</th>\n",
       "      <th>Issue Date</th>\n",
       "      <th>Violation Time</th>\n",
       "      <th>Violation Code</th>\n",
       "      <th>Street Name</th>\n",
       "      <th>Sub Division</th>\n",
       "      <th>Vehicle Body Type</th>\n",
       "      <th>Vehicle Make</th>\n",
       "      <th>Vehicle Color</th>\n",
       "      <th>Vehicle Year</th>\n",
       "    </tr>\n",
       "  </thead>\n",
       "  <tbody>\n",
       "    <tr>\n",
       "      <th>0</th>\n",
       "      <td>NY</td>\n",
       "      <td>2018-07-03 09:59:00</td>\n",
       "      <td>0811P</td>\n",
       "      <td>14</td>\n",
       "      <td>HANSON PLACE</td>\n",
       "      <td>D1</td>\n",
       "      <td>SDN</td>\n",
       "      <td>HONDA</td>\n",
       "      <td>BLUE</td>\n",
       "      <td>2006</td>\n",
       "    </tr>\n",
       "  </tbody>\n",
       "</table>\n",
       "</div>"
      ],
      "text/plain": [
       "  Registration State          Issue Date Violation Time  Violation Code  \\\n",
       "0                 NY 2018-07-03 09:59:00          0811P              14   \n",
       "\n",
       "    Street Name Sub Division Vehicle Body Type Vehicle Make Vehicle Color  \\\n",
       "0  HANSON PLACE           D1               SDN        HONDA          BLUE   \n",
       "\n",
       "   Vehicle Year  \n",
       "0          2006  "
      ]
     },
     "execution_count": 22,
     "metadata": {},
     "output_type": "execute_result"
    }
   ],
   "source": [
    "df.head(1)"
   ]
  },
  {
   "cell_type": "code",
   "execution_count": null,
   "metadata": {},
   "outputs": [],
   "source": [
    "#pseudocode to combine issue date and violation time\n",
    "\n",
    "#loop each row's violation time\n",
    "    #take first 2 characters, store them in hour variable\n",
    "    #take the next 2 characters, store them in minute variable\n",
    "    #cast hour and minute into int\n",
    "    #take the last character, if P, we add 12 to hour\n",
    "    #Issue Date[i] = Issue Date[i] + timedelta(hours=hour, minutes=minute)\n",
    "#end loop"
   ]
  }
 ],
 "metadata": {
  "kernelspec": {
   "display_name": "Python [conda env:Anaconda3]",
   "language": "python",
   "name": "conda-env-Anaconda3-py"
  },
  "language_info": {
   "codemirror_mode": {
    "name": "ipython",
    "version": 3
   },
   "file_extension": ".py",
   "mimetype": "text/x-python",
   "name": "python",
   "nbconvert_exporter": "python",
   "pygments_lexer": "ipython3",
   "version": "3.6.6"
  }
 },
 "nbformat": 4,
 "nbformat_minor": 2
}
