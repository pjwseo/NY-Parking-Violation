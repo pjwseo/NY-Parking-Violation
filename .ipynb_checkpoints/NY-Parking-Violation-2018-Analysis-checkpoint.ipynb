{
 "cells": [
  {
   "cell_type": "markdown",
   "metadata": {},
   "source": [
    "# Project: Can we predict when, where, and which car is going to receive a parking ticket?"
   ]
  },
  {
   "cell_type": "markdown",
   "metadata": {},
   "source": [
    "## Table of Contents:\n",
    "* [Introduction](#1)\n",
    "* [Wrangling](#2)\n",
    "* [Exploratory Visuals](#3)\n",
    "* [Explanatory Visuals](#4)\n",
    "* [Conclusion](#5)"
   ]
  },
  {
   "cell_type": "markdown",
   "metadata": {},
   "source": [
    "## Introduction:<a class=\"anchor\" id=\"1\"></a>\n",
    "Have you ever browsed iMDB looking for good movies to watch, sorted by rating? Or browsing the movie you just watched on iMDB, only to find that it has a shockingly low or high viewer rating? What can we say about the high or low ratings of a movie on iMDB?\n",
    "\n",
    "We take a dive into the dataset provided by Kaggle (but now replaced with TMDB ratings due to DMCA Takedown https://www.kaggle.com/tmdb/tmdb-movie-metadata/home) to see what's going on behind these scores!"
   ]
  },
  {
   "cell_type": "code",
   "execution_count": 18,
   "metadata": {},
   "outputs": [],
   "source": [
    "# import all packages and set plots to be embedded inline\n",
    "import numpy as np\n",
    "import pandas as pd\n",
    "import matplotlib.pyplot as plt\n",
    "import seaborn as sb\n",
    "from patsy import dmatrices\n",
    "import statsmodels.api as sm;\n",
    "from datetime import datetime, timedelta\n",
    "from statsmodels.stats.outliers_influence import variance_inflation_factor\n",
    "\n",
    "%matplotlib inline"
   ]
  },
  {
   "cell_type": "code",
   "execution_count": 19,
   "metadata": {},
   "outputs": [],
   "source": [
    "# Large dataset, we want to see all columns\n",
    "pd.set_option('display.max_columns', None)"
   ]
  },
  {
   "cell_type": "code",
   "execution_count": 20,
   "metadata": {},
   "outputs": [],
   "source": [
    "# read in .csv\n",
    "df_og = pd.read_csv('parking-violations-issued-fiscal-year-2018.csv', low_memory = False)"
   ]
  },
  {
   "cell_type": "markdown",
   "metadata": {},
   "source": [
    "## Wrangling:"
   ]
  },
  {
   "cell_type": "markdown",
   "metadata": {},
   "source": [
    "### Data Issues\n",
    "* column names: add _ between blank space and all lower case\n",
    "* violation code is type int -> cast as string\n",
    "* combine issue date + violation time"
   ]
  },
  {
   "cell_type": "code",
   "execution_count": 269,
   "metadata": {},
   "outputs": [],
   "source": [
    "df = df_og.copy()"
   ]
  },
  {
   "cell_type": "code",
   "execution_count": 270,
   "metadata": {},
   "outputs": [],
   "source": [
    "# Taking the columns we want to work with\n",
    "df = df[['Registration State', 'Issue Date', 'Violation Time', 'Violation Code', 'Street Name', 'Sub Division',\n",
    "        'Vehicle Body Type', 'Vehicle Make', 'Vehicle Color', 'Vehicle Year']]"
   ]
  },
  {
   "cell_type": "code",
   "execution_count": 271,
   "metadata": {},
   "outputs": [],
   "source": [
    "# change column names\n",
    "df.columns = ['registration_state', 'issue_date', 'violation_time', 'violation_code', 'street_name', \n",
    "              'subdivision', 'vehicle_body_type', 'vehicle_make', 'vehicle_color', 'vehicle_year']"
   ]
  },
  {
   "cell_type": "code",
   "execution_count": 272,
   "metadata": {},
   "outputs": [],
   "source": [
    "# drop duplicate rows and rows with missing value\n",
    "df.drop_duplicates(inplace = True)\n",
    "df.dropna(inplace = True)"
   ]
  },
  {
   "cell_type": "code",
   "execution_count": 273,
   "metadata": {},
   "outputs": [
    {
     "name": "stdout",
     "output_type": "stream",
     "text": [
      "2020-05-17 09:59:00\n"
     ]
    }
   ],
   "source": [
    "# Playing around with datetime objects to learn them\n",
    "\n",
    "x = datetime(2020, 5, 17)\n",
    "x = x + timedelta(hours=9, minutes=59)\n",
    "\n",
    "print(x)"
   ]
  },
  {
   "cell_type": "code",
   "execution_count": 275,
   "metadata": {},
   "outputs": [],
   "source": [
    "# Convert Issue Date to datetime object\n",
    "df.issue_date = pd.to_datetime(df.issue_date)"
   ]
  },
  {
   "cell_type": "code",
   "execution_count": 277,
   "metadata": {
    "scrolled": false
   },
   "outputs": [],
   "source": [
    "# Get rid of incorrect violation time data\n",
    "mask = (df.violation_time.str.len() == 5) & (df.violation_time.str.count('\\.') == 0) & (df.violation_time.str.count(' ') == 0)\n",
    "\n",
    "df = df.loc[mask]"
   ]
  },
  {
   "cell_type": "code",
   "execution_count": 280,
   "metadata": {
    "scrolled": true
   },
   "outputs": [
    {
     "name": "stderr",
     "output_type": "stream",
     "text": [
      "A:\\Anaconda3\\lib\\site-packages\\ipykernel\\__main__.py:2: SettingWithCopyWarning: \n",
      "A value is trying to be set on a copy of a slice from a DataFrame.\n",
      "Try using .loc[row_indexer,col_indexer] = value instead\n",
      "\n",
      "See the caveats in the documentation: http://pandas.pydata.org/pandas-docs/stable/indexing.html#indexing-view-versus-copy\n",
      "  from ipykernel import kernelapp as app\n"
     ]
    }
   ],
   "source": [
    "# Add flag column for additional filtering later on\n",
    "df['flag'] = False\n",
    "df = df.reset_index(drop=True)"
   ]
  },
  {
   "cell_type": "code",
   "execution_count": 287,
   "metadata": {},
   "outputs": [
    {
     "name": "stderr",
     "output_type": "stream",
     "text": [
      "A:\\Anaconda3\\lib\\site-packages\\ipykernel\\__main__.py:2: FutureWarning: get_value is deprecated and will be removed in a future release. Please use .at[] or .iat[] accessors instead\n",
      "  from ipykernel import kernelapp as app\n",
      "A:\\Anaconda3\\lib\\site-packages\\ipykernel\\__main__.py:17: FutureWarning: set_value is deprecated and will be removed in a future release. Please use .at[] or .iat[] accessors instead\n",
      "A:\\Anaconda3\\lib\\site-packages\\ipykernel\\__main__.py:9: FutureWarning: set_value is deprecated and will be removed in a future release. Please use .at[] or .iat[] accessors instead\n"
     ]
    }
   ],
   "source": [
    "for i in df.index:\n",
    "    # grab violation time at row i\n",
    "    v_time = df.get_value(i, 'violation_time')\n",
    "    \n",
    "    # tokenize hour, minute, and PM/AM characters into different variables, cast to int as necessary\n",
    "    h = int(v_time[0:2])\n",
    "    m = int(v_time[2:4])\n",
    "    p = v_time[4:5]\n",
    "    \n",
    "    # flag rows with erroneous violation time values (ex. 6831P) \n",
    "    if h >= 24:\n",
    "        df.set_value(i, 'flag', True)   \n",
    "    if m >= 60:\n",
    "        df.set_value(i, 'flag', True)\n",
    "    \n",
    "    # if violation time is PM, add 12 to hour value\n",
    "    if p == 'P':\n",
    "        h += 12\n",
    "    \n",
    "    # add time data to issue date data using timedelta\n",
    "    df.set_value(i, 'issue_date', df.issue_date[i] + timedelta(hours = h, minutes = m))"
   ]
  },
  {
   "cell_type": "code",
   "execution_count": 293,
   "metadata": {
    "scrolled": false
   },
   "outputs": [],
   "source": [
    "# remove flagged rows\n",
    "df = df.query('flag == False')"
   ]
  },
  {
   "cell_type": "code",
   "execution_count": 297,
   "metadata": {},
   "outputs": [],
   "source": [
    "# drop violation time as it's no longer needed\n",
    "df.drop('violation_time', axis = 1, inplace = True)"
   ]
  },
  {
   "cell_type": "code",
   "execution_count": 298,
   "metadata": {},
   "outputs": [
    {
     "data": {
      "text/html": [
       "<div>\n",
       "<style scoped>\n",
       "    .dataframe tbody tr th:only-of-type {\n",
       "        vertical-align: middle;\n",
       "    }\n",
       "\n",
       "    .dataframe tbody tr th {\n",
       "        vertical-align: top;\n",
       "    }\n",
       "\n",
       "    .dataframe thead th {\n",
       "        text-align: right;\n",
       "    }\n",
       "</style>\n",
       "<table border=\"1\" class=\"dataframe\">\n",
       "  <thead>\n",
       "    <tr style=\"text-align: right;\">\n",
       "      <th></th>\n",
       "      <th>registration_state</th>\n",
       "      <th>issue_date</th>\n",
       "      <th>violation_code</th>\n",
       "      <th>street_name</th>\n",
       "      <th>subdivision</th>\n",
       "      <th>vehicle_body_type</th>\n",
       "      <th>vehicle_make</th>\n",
       "      <th>vehicle_color</th>\n",
       "      <th>vehicle_year</th>\n",
       "      <th>flag</th>\n",
       "    </tr>\n",
       "  </thead>\n",
       "  <tbody>\n",
       "    <tr>\n",
       "      <th>0</th>\n",
       "      <td>NY</td>\n",
       "      <td>2018-07-04 16:22:00</td>\n",
       "      <td>14</td>\n",
       "      <td>HANSON PLACE</td>\n",
       "      <td>D1</td>\n",
       "      <td>SDN</td>\n",
       "      <td>HONDA</td>\n",
       "      <td>BLUE</td>\n",
       "      <td>2006</td>\n",
       "      <td>False</td>\n",
       "    </tr>\n",
       "    <tr>\n",
       "      <th>1</th>\n",
       "      <td>NY</td>\n",
       "      <td>2018-06-28 23:30:00</td>\n",
       "      <td>46</td>\n",
       "      <td>AUSTIN ST</td>\n",
       "      <td>C</td>\n",
       "      <td>SDN</td>\n",
       "      <td>NISSA</td>\n",
       "      <td>GRY</td>\n",
       "      <td>2017</td>\n",
       "      <td>False</td>\n",
       "    </tr>\n",
       "    <tr>\n",
       "      <th>2</th>\n",
       "      <td>NY</td>\n",
       "      <td>2018-06-09 07:50:00</td>\n",
       "      <td>24</td>\n",
       "      <td>GREAT KILLS BOAT LAU</td>\n",
       "      <td>D5</td>\n",
       "      <td>SUBN</td>\n",
       "      <td>JEEP</td>\n",
       "      <td>GREEN</td>\n",
       "      <td>0</td>\n",
       "      <td>False</td>\n",
       "    </tr>\n",
       "    <tr>\n",
       "      <th>3</th>\n",
       "      <td>NC</td>\n",
       "      <td>2018-06-08 02:46:00</td>\n",
       "      <td>24</td>\n",
       "      <td>GREAT KILLS PARK BOA</td>\n",
       "      <td>D5</td>\n",
       "      <td>P-U</td>\n",
       "      <td>FORD</td>\n",
       "      <td>WHITE</td>\n",
       "      <td>0</td>\n",
       "      <td>False</td>\n",
       "    </tr>\n",
       "    <tr>\n",
       "      <th>4</th>\n",
       "      <td>NY</td>\n",
       "      <td>2018-06-30 10:28:00</td>\n",
       "      <td>17</td>\n",
       "      <td>HANSON PLACE</td>\n",
       "      <td>C4</td>\n",
       "      <td>SUBN</td>\n",
       "      <td>HYUND</td>\n",
       "      <td>GREEN</td>\n",
       "      <td>2007</td>\n",
       "      <td>False</td>\n",
       "    </tr>\n",
       "  </tbody>\n",
       "</table>\n",
       "</div>"
      ],
      "text/plain": [
       "  registration_state          issue_date  violation_code  \\\n",
       "0                 NY 2018-07-04 16:22:00              14   \n",
       "1                 NY 2018-06-28 23:30:00              46   \n",
       "2                 NY 2018-06-09 07:50:00              24   \n",
       "3                 NC 2018-06-08 02:46:00              24   \n",
       "4                 NY 2018-06-30 10:28:00              17   \n",
       "\n",
       "            street_name subdivision vehicle_body_type vehicle_make  \\\n",
       "0          HANSON PLACE          D1               SDN        HONDA   \n",
       "1             AUSTIN ST           C               SDN        NISSA   \n",
       "2  GREAT KILLS BOAT LAU          D5              SUBN         JEEP   \n",
       "3  GREAT KILLS PARK BOA          D5               P-U         FORD   \n",
       "4          HANSON PLACE          C4              SUBN        HYUND   \n",
       "\n",
       "  vehicle_color  vehicle_year   flag  \n",
       "0          BLUE          2006  False  \n",
       "1           GRY          2017  False  \n",
       "2         GREEN             0  False  \n",
       "3         WHITE             0  False  \n",
       "4         GREEN          2007  False  "
      ]
     },
     "execution_count": 298,
     "metadata": {},
     "output_type": "execute_result"
    }
   ],
   "source": [
    "df.head()"
   ]
  },
  {
   "cell_type": "code",
   "execution_count": 302,
   "metadata": {},
   "outputs": [],
   "source": [
    "# save to csv for now so we do not need to repeat lengthy cleaning steps\n",
    "df.to_csv('temp_data', index = False)"
   ]
  }
 ],
 "metadata": {
  "kernelspec": {
   "display_name": "Python [conda env:Anaconda3]",
   "language": "python",
   "name": "conda-env-Anaconda3-py"
  },
  "language_info": {
   "codemirror_mode": {
    "name": "ipython",
    "version": 3
   },
   "file_extension": ".py",
   "mimetype": "text/x-python",
   "name": "python",
   "nbconvert_exporter": "python",
   "pygments_lexer": "ipython3",
   "version": "3.6.6"
  }
 },
 "nbformat": 4,
 "nbformat_minor": 2
}
